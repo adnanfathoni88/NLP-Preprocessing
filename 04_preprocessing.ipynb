{
  "nbformat": 4,
  "nbformat_minor": 0,
  "metadata": {
    "colab": {
      "provenance": [],
      "authorship_tag": "ABX9TyOq9bS3uukv9IFNT7cgI3/T",
      "include_colab_link": true
    },
    "kernelspec": {
      "name": "python3",
      "display_name": "Python 3"
    },
    "language_info": {
      "name": "python"
    }
  },
  "cells": [
    {
      "cell_type": "markdown",
      "metadata": {
        "id": "view-in-github",
        "colab_type": "text"
      },
      "source": [
        "<a href=\"https://colab.research.google.com/github/adnanfathoni88/NLP-Preprocessing/blob/main/04_preprocessing.ipynb\" target=\"_parent\"><img src=\"https://colab.research.google.com/assets/colab-badge.svg\" alt=\"Open In Colab\"/></a>"
      ]
    },
    {
      "cell_type": "markdown",
      "source": [
        "# Text Cleaning"
      ],
      "metadata": {
        "id": "f8jomtM5fIoo"
      }
    },
    {
      "cell_type": "markdown",
      "source": [
        "==== HAPUS TANDA BACA ===="
      ],
      "metadata": {
        "id": "JeLo1Da2he8Y"
      }
    },
    {
      "cell_type": "code",
      "execution_count": 1,
      "metadata": {
        "id": "4kZdDQRAdYjE"
      },
      "outputs": [],
      "source": [
        "import re"
      ]
    },
    {
      "cell_type": "code",
      "source": [
        "text = \"Halo, apa kabar? Saya harap semua baik-baik saja!\"\n",
        "cleaned = re.sub(r'[^\\w\\s]', '', text)"
      ],
      "metadata": {
        "id": "fYtWX3GkfP-8"
      },
      "execution_count": 3,
      "outputs": []
    },
    {
      "cell_type": "code",
      "source": [
        "print(\"Teks Asli: \", text)\n",
        "print(\"Teks Bersih: \", cleaned)"
      ],
      "metadata": {
        "colab": {
          "base_uri": "https://localhost:8080/"
        },
        "id": "7TUR9VaofTHD",
        "outputId": "82cdcf45-17ed-4a84-9122-c8f626608782"
      },
      "execution_count": 4,
      "outputs": [
        {
          "output_type": "stream",
          "name": "stdout",
          "text": [
            "Teks Asli:  Halo, apa kabar? Saya harap semua baik-baik saja!\n",
            "Teks Bersih:  Halo apa kabar Saya harap semua baikbaik saja\n"
          ]
        }
      ]
    },
    {
      "cell_type": "code",
      "source": [
        "text = \"Terima kasih!!! Kapan kita bertemu? (Besok?)\"\n",
        "cleaned = ''.join(ch for ch in text if ch.isalnum() or ch.isspace())"
      ],
      "metadata": {
        "id": "7ahxZRMZfcB3"
      },
      "execution_count": 5,
      "outputs": []
    },
    {
      "cell_type": "code",
      "source": [
        "print(\"Teks Asli: \", text)\n",
        "print(\"Teks Bersih: \", cleaned)"
      ],
      "metadata": {
        "colab": {
          "base_uri": "https://localhost:8080/"
        },
        "id": "PlIJmR-0fd23",
        "outputId": "35000ae4-1899-48c5-ee52-2b3a3b79ffde"
      },
      "execution_count": 6,
      "outputs": [
        {
          "output_type": "stream",
          "name": "stdout",
          "text": [
            "Teks Asli:  Terima kasih!!! Kapan kita bertemu? (Besok?)\n",
            "Teks Bersih:  Terima kasih Kapan kita bertemu Besok\n"
          ]
        }
      ]
    },
    {
      "cell_type": "markdown",
      "source": [
        "==== MENGHAPUS ANGKA ===="
      ],
      "metadata": {
        "id": "sMn9qtyciuw7"
      }
    },
    {
      "cell_type": "code",
      "source": [
        "# manghapus angka\n",
        "text = \"Saya membeli 2 buah Baterai AA seharga Rp 25.000 dengan kode produk 89927A.\"\n",
        "cleaned_text = text.translate(str.maketrans('', '', '0123456789'))"
      ],
      "metadata": {
        "id": "RH_B_uRSgB5Y"
      },
      "execution_count": 9,
      "outputs": []
    },
    {
      "cell_type": "code",
      "source": [
        "print(f\"Teks Asli: {text}\")\n",
        "print(f\"Teks Bersih: {cleaned_text}\")"
      ],
      "metadata": {
        "colab": {
          "base_uri": "https://localhost:8080/"
        },
        "id": "WBIZZUe_gFUT",
        "outputId": "a155617a-47d3-4bca-8d27-594c8f6b1271"
      },
      "execution_count": 8,
      "outputs": [
        {
          "output_type": "stream",
          "name": "stdout",
          "text": [
            "Teks Asli: Saya membeli 2 buah Baterai AA seharga Rp 25.000 dengan kode produk 89927A.\n",
            "Teks Bersih: Saya membeli  buah Baterai AA seharga Rp . dengan kode produk A.\n"
          ]
        }
      ]
    },
    {
      "cell_type": "code",
      "source": [
        "# Teks dengan Nomor Telepon dan Alamat\n",
        "text = \"Silakan hubungi customer service di 081234567890 jika paket belum sampai ke Jalan Merdeka No. 15.\"\n",
        "cleaned_text = text.translate(str.maketrans('', '', '0123456789'))"
      ],
      "metadata": {
        "id": "eFPyqyX8gPfa"
      },
      "execution_count": 10,
      "outputs": []
    },
    {
      "cell_type": "code",
      "source": [
        "print(f\"Teks Asli: {text}\")\n",
        "print(f\"Teks Bersih: {cleaned_text}\")"
      ],
      "metadata": {
        "colab": {
          "base_uri": "https://localhost:8080/"
        },
        "id": "39HvGlFOgUfk",
        "outputId": "789d95c5-987d-4f85-eae4-996a4c28d1e5"
      },
      "execution_count": 11,
      "outputs": [
        {
          "output_type": "stream",
          "name": "stdout",
          "text": [
            "Teks Asli: Silakan hubungi customer service di 081234567890 jika paket belum sampai ke Jalan Merdeka No. 15.\n",
            "Teks Bersih: Silakan hubungi customer service di  jika paket belum sampai ke Jalan Merdeka No. .\n"
          ]
        }
      ]
    },
    {
      "cell_type": "code",
      "source": [
        "text = \"Event promo 10.10 pada 10 Oktober 2024 memberikan diskon hingga 90% untuk semua item.\"\n",
        "cleaned_text = text.translate(str.maketrans('', '', '0123456789'))"
      ],
      "metadata": {
        "id": "JDaJyoQTgkx3"
      },
      "execution_count": 12,
      "outputs": []
    },
    {
      "cell_type": "code",
      "source": [
        "print(f\"BE: {text}\")\n",
        "print(f\"AF: {cleaned_text}\")\n"
      ],
      "metadata": {
        "colab": {
          "base_uri": "https://localhost:8080/"
        },
        "id": "ws9xORd0gnvL",
        "outputId": "717eade8-98a8-4aec-9fd7-10c2be875ca2"
      },
      "execution_count": 14,
      "outputs": [
        {
          "output_type": "stream",
          "name": "stdout",
          "text": [
            "BE: Event promo 10.10 pada 10 Oktober 2024 memberikan diskon hingga 90% untuk semua item.\n",
            "AF: Event promo . pada  Oktober  memberikan diskon hingga % untuk semua item.\n"
          ]
        }
      ]
    },
    {
      "cell_type": "markdown",
      "source": [
        "==== HAPUS KARAKTER KHUSUS ===="
      ],
      "metadata": {
        "id": "InoHYZZahnbF"
      }
    },
    {
      "cell_type": "code",
      "source": [
        "text = \"Kualitasnya TOP!! Bahannya bagus & harganya murah meriah. Recomended!\"\n",
        "cleaned_text = re.sub(r'[^\\w\\s]', '', text)"
      ],
      "metadata": {
        "id": "hjCXnHj8hrdM"
      },
      "execution_count": 17,
      "outputs": []
    },
    {
      "cell_type": "code",
      "source": [
        "print(f\"B: {text}\")\n",
        "print(f\"A: {cleaned_text}\")"
      ],
      "metadata": {
        "colab": {
          "base_uri": "https://localhost:8080/"
        },
        "id": "-cmPatQ9htiZ",
        "outputId": "78958cb1-6ea6-4ff3-f226-163a32907055"
      },
      "execution_count": 18,
      "outputs": [
        {
          "output_type": "stream",
          "name": "stdout",
          "text": [
            "B: Kualitasnya TOP!! Bahannya bagus & harganya murah meriah. Recomended!\n",
            "A: Kualitasnya TOP Bahannya bagus  harganya murah meriah Recomended\n"
          ]
        }
      ]
    },
    {
      "cell_type": "code",
      "source": [
        "text = \"Harga barangnya $50.00, setelah diskon 25% menjadi $37.50. Totalnya <= $40.\"\n",
        "cleaned_text = re.sub(r'[^\\w\\s]', '', text)"
      ],
      "metadata": {
        "id": "1rMftbAJh1mu"
      },
      "execution_count": 19,
      "outputs": []
    },
    {
      "cell_type": "code",
      "source": [
        "print(f\"Teks Asli: {text}\")\n",
        "print(f\"Teks Bersih: {cleaned_text}\")"
      ],
      "metadata": {
        "colab": {
          "base_uri": "https://localhost:8080/"
        },
        "id": "K0T9mxKqh33h",
        "outputId": "ebc1f28a-d7d6-455b-d491-78b1bcb2182c"
      },
      "execution_count": 20,
      "outputs": [
        {
          "output_type": "stream",
          "name": "stdout",
          "text": [
            "Teks Asli: Harga barangnya $50.00, setelah diskon 25% menjadi $37.50. Totalnya <= $40.\n",
            "Teks Bersih: Harga barangnya 5000 setelah diskon 25 menjadi 3750 Totalnya  40\n"
          ]
        }
      ]
    },
    {
      "cell_type": "code",
      "source": [
        "text = \"Laporan (final_v2) ini berisi data penting [CONFIDENTIAL] - jangan disebar! © 2025.\"\n",
        "cleaned_text = re.sub(r'[^\\w\\s]', '', text)"
      ],
      "metadata": {
        "id": "OEt6uX3eh--o"
      },
      "execution_count": 21,
      "outputs": []
    },
    {
      "cell_type": "code",
      "source": [
        "print(f\"Teks Asli: {text}\")\n",
        "print(f\"Teks Bersih: {cleaned_text}\")"
      ],
      "metadata": {
        "colab": {
          "base_uri": "https://localhost:8080/"
        },
        "id": "HiovCBRFiBGe",
        "outputId": "2310974f-4c11-4721-f8f0-d2ae1a7d4161"
      },
      "execution_count": 23,
      "outputs": [
        {
          "output_type": "stream",
          "name": "stdout",
          "text": [
            "Teks Asli: Laporan (final_v2) ini berisi data penting [CONFIDENTIAL] - jangan disebar! © 2025.\n",
            "Teks Bersih: Laporan final_v2 ini berisi data penting CONFIDENTIAL  jangan disebar  2025\n"
          ]
        }
      ]
    },
    {
      "cell_type": "markdown",
      "source": [
        "==== HAPUS URL ===="
      ],
      "metadata": {
        "id": "GtUFoTP5iHAO"
      }
    },
    {
      "cell_type": "code",
      "source": [
        "text = \"Kunjungi situs kami di https://www.contoh.com atau cek juga http://toko-online.net untuk info lebih lanjut.\"\n",
        "cleaned_text = re.sub(r'https?://\\S+', '', text)"
      ],
      "metadata": {
        "id": "GnJ5QpyNiI25"
      },
      "execution_count": 24,
      "outputs": []
    },
    {
      "cell_type": "code",
      "source": [
        "print(f\"Teks Asli: {text}\")\n",
        "print(f\"Teks Bersih: {cleaned_text}\")"
      ],
      "metadata": {
        "colab": {
          "base_uri": "https://localhost:8080/"
        },
        "id": "zg9KaG8siKp9",
        "outputId": "6c7c4d84-513a-46da-f1a1-bc6d593a86a4"
      },
      "execution_count": 25,
      "outputs": [
        {
          "output_type": "stream",
          "name": "stdout",
          "text": [
            "Teks Asli: Kunjungi situs kami di https://www.contoh.com atau cek juga http://toko-online.net untuk info lebih lanjut.\n",
            "Teks Bersih: Kunjungi situs kami di  atau cek juga  untuk info lebih lanjut.\n"
          ]
        }
      ]
    },
    {
      "cell_type": "code",
      "source": [
        "text = \"Info lengkap ada di https://bit.ly/info123 dan juga di http://example.org/data.\"\n",
        "cleaned_text = re.sub(r'https?://\\S+', '', text)"
      ],
      "metadata": {
        "id": "XsfyFrfNiOIs"
      },
      "execution_count": 26,
      "outputs": []
    },
    {
      "cell_type": "code",
      "source": [
        "print(\"Teks Asli: \", text)\n",
        "print(\"Teks Bersih:\", cleaned_text)"
      ],
      "metadata": {
        "colab": {
          "base_uri": "https://localhost:8080/"
        },
        "id": "3kGVSMOOiP8F",
        "outputId": "da183c92-1081-4a3e-b02b-fac203a77e0e"
      },
      "execution_count": 27,
      "outputs": [
        {
          "output_type": "stream",
          "name": "stdout",
          "text": [
            "Teks Asli:  Info lengkap ada di https://bit.ly/info123 dan juga di http://example.org/data.\n",
            "Teks Bersih: Info lengkap ada di  dan juga di \n"
          ]
        }
      ]
    },
    {
      "cell_type": "markdown",
      "source": [
        "==== MENGHAPUS SPASI BERLEBIHAN ===="
      ],
      "metadata": {
        "id": "gcQ7Dmuxi_av"
      }
    },
    {
      "cell_type": "code",
      "source": [
        "text = \" Produk ini sangat bagus dan berkualitas. \"\n",
        "# memisahkan teks berdasarkan spasi, tab, atau newline\n",
        "# Output: ['Produk', 'ini', 'sangat', 'bagus', 'dan', 'berkualitas.']\n",
        "cleaned_text = \" \".join(text.split())"
      ],
      "metadata": {
        "id": "pcwo9CgRiX2c"
      },
      "execution_count": 28,
      "outputs": []
    },
    {
      "cell_type": "code",
      "source": [
        "print(f\"Teks Asli: '{text}'\")\n",
        "print(f\"Teks Bersih: '{cleaned_text}'\")"
      ],
      "metadata": {
        "colab": {
          "base_uri": "https://localhost:8080/"
        },
        "id": "49aUHTeviaP5",
        "outputId": "a77fb31a-fed3-48b6-d751-51c625805d16"
      },
      "execution_count": 29,
      "outputs": [
        {
          "output_type": "stream",
          "name": "stdout",
          "text": [
            "Teks Asli: ' Produk ini sangat bagus dan berkualitas. '\n",
            "Teks Bersih: 'Produk ini sangat bagus dan berkualitas.'\n"
          ]
        }
      ]
    },
    {
      "cell_type": "code",
      "source": [
        "text = \"\\n\\n Layanan pelanggan sangat responsif. \\n\"\n",
        "cleaned_text = \" \".join(text.split())"
      ],
      "metadata": {
        "id": "5NCBE4C9jGEu"
      },
      "execution_count": 30,
      "outputs": []
    },
    {
      "cell_type": "code",
      "source": [
        "print(f\"Teks Asli: '{text}'\")\n",
        "print(f\"Teks Bersih: '{cleaned_text}'\")"
      ],
      "metadata": {
        "colab": {
          "base_uri": "https://localhost:8080/"
        },
        "id": "BIaRUYIcjICN",
        "outputId": "1317f5d6-a2f5-431d-f1bb-8b8bb9acd5dc"
      },
      "execution_count": 31,
      "outputs": [
        {
          "output_type": "stream",
          "name": "stdout",
          "text": [
            "Teks Asli: '\n",
            "\n",
            " Layanan pelanggan sangat responsif. \n",
            "'\n",
            "Teks Bersih: 'Layanan pelanggan sangat responsif.'\n"
          ]
        }
      ]
    },
    {
      "cell_type": "markdown",
      "source": [
        "# Case Folding"
      ],
      "metadata": {
        "id": "uBo-9ZGfjScr"
      }
    },
    {
      "cell_type": "code",
      "source": [
        "text = \"Machine Learning dan deep Learning adalah Cabang dari ArtificiaL intelligence.\"\n",
        "# .lower() adalah method milik string(text) yang sudah disediakan Python secara default\n",
        "cleaned_text = text.lower()"
      ],
      "metadata": {
        "id": "T6Q0-aynjZTo"
      },
      "execution_count": 32,
      "outputs": []
    },
    {
      "cell_type": "code",
      "source": [
        "print(f\"Teks Asli: {text}\")\n",
        "print(f\"Teks Bersih: {cleaned_text}\")"
      ],
      "metadata": {
        "colab": {
          "base_uri": "https://localhost:8080/"
        },
        "id": "v3G2hHkVjdKo",
        "outputId": "b412f4da-7164-4880-9d99-e7d87884f31a"
      },
      "execution_count": 33,
      "outputs": [
        {
          "output_type": "stream",
          "name": "stdout",
          "text": [
            "Teks Asli: Machine Learning dan deep Learning adalah Cabang dari ArtificiaL intelligence.\n",
            "Teks Bersih: machine learning dan deep learning adalah cabang dari artificial intelligence.\n"
          ]
        }
      ]
    },
    {
      "cell_type": "code",
      "source": [
        "text = \"Barangnya SUDAH SAMPAI, TERIMA KASIH BANYAK! CEPAT SEKALI pengirimannya.\"\n",
        "cleaned_text = text.lower()"
      ],
      "metadata": {
        "id": "hfFzTSKIjkB5"
      },
      "execution_count": 34,
      "outputs": []
    },
    {
      "cell_type": "code",
      "source": [
        "print(f\"Teks Asli: {text}\")\n",
        "print(f\"Teks Bersih: {cleaned_text}\")"
      ],
      "metadata": {
        "colab": {
          "base_uri": "https://localhost:8080/"
        },
        "id": "qbCukP4ojmbQ",
        "outputId": "2b6a4e8b-a915-47b9-c1b8-e50ec6ac0625"
      },
      "execution_count": 35,
      "outputs": [
        {
          "output_type": "stream",
          "name": "stdout",
          "text": [
            "Teks Asli: Barangnya SUDAH SAMPAI, TERIMA KASIH BANYAK! CEPAT SEKALI pengirimannya.\n",
            "Teks Bersih: barangnya sudah sampai, terima kasih banyak! cepat sekali pengirimannya.\n"
          ]
        }
      ]
    },
    {
      "cell_type": "code",
      "source": [
        "text = \"Machine Learning dan deep Learning adalah Cabang dari ArtificiaL intelligence.\"\n",
        "cleaned_text = text.upper()"
      ],
      "metadata": {
        "id": "YRd-1e22jpMg"
      },
      "execution_count": 36,
      "outputs": []
    },
    {
      "cell_type": "code",
      "source": [
        "print(f\"Teks Asli: {text}\")\n",
        "print(f\"Teks Bersih: {cleaned_text}\")"
      ],
      "metadata": {
        "colab": {
          "base_uri": "https://localhost:8080/"
        },
        "id": "aCfV8BOBjqv9",
        "outputId": "f8fccae6-2834-4c14-fadf-32c2b4cedb27"
      },
      "execution_count": 37,
      "outputs": [
        {
          "output_type": "stream",
          "name": "stdout",
          "text": [
            "Teks Asli: Machine Learning dan deep Learning adalah Cabang dari ArtificiaL intelligence.\n",
            "Teks Bersih: MACHINE LEARNING DAN DEEP LEARNING ADALAH CABANG DARI ARTIFICIAL INTELLIGENCE.\n"
          ]
        }
      ]
    },
    {
      "cell_type": "markdown",
      "source": [
        "# Stopword Removal"
      ],
      "metadata": {
        "id": "8OqyJwYJjtse"
      }
    },
    {
      "cell_type": "markdown",
      "source": [
        "==== Menghapus Stopwords (Kata Umum) ===="
      ],
      "metadata": {
        "id": "szutskt7jzfD"
      }
    },
    {
      "cell_type": "code",
      "source": [
        "import nltk\n",
        "import string\n",
        "from nltk.corpus import stopwords\n",
        "from nltk.tokenize import word_tokenize\n",
        "nltk.download('stopwords')\n",
        "nltk.download('punkt')\n",
        "nltk.download('punkt_tab')"
      ],
      "metadata": {
        "colab": {
          "base_uri": "https://localhost:8080/"
        },
        "id": "IuJlZKAEjyB8",
        "outputId": "d8bc311a-9319-4ba7-d33d-db24ce4d6f2e"
      },
      "execution_count": 38,
      "outputs": [
        {
          "output_type": "stream",
          "name": "stderr",
          "text": [
            "[nltk_data] Downloading package stopwords to /root/nltk_data...\n",
            "[nltk_data]   Unzipping corpora/stopwords.zip.\n",
            "[nltk_data] Downloading package punkt to /root/nltk_data...\n",
            "[nltk_data]   Unzipping tokenizers/punkt.zip.\n",
            "[nltk_data] Downloading package punkt_tab to /root/nltk_data...\n",
            "[nltk_data]   Unzipping tokenizers/punkt_tab.zip.\n"
          ]
        },
        {
          "output_type": "execute_result",
          "data": {
            "text/plain": [
              "True"
            ]
          },
          "metadata": {},
          "execution_count": 38
        }
      ]
    },
    {
      "cell_type": "code",
      "source": [
        "text = \"Pengiriman produk ini sangat cepat dan kemasannya juga rapi sekali.\"\n",
        "#Menentukan Stopwords Bahasa Indonesia\n",
        "stop_words = set(stopwords.words('indonesian'))\n",
        "word_tokens = word_tokenize(text)\n",
        "print(word_tokens)"
      ],
      "metadata": {
        "colab": {
          "base_uri": "https://localhost:8080/"
        },
        "id": "yhCH9uYhj5PT",
        "outputId": "bd5bb92c-da1c-4ba8-8ed5-5c6211680a66"
      },
      "execution_count": 40,
      "outputs": [
        {
          "output_type": "stream",
          "name": "stdout",
          "text": [
            "['Pengiriman', 'produk', 'ini', 'sangat', 'cepat', 'dan', 'kemasannya', 'juga', 'rapi', 'sekali', '.']\n"
          ]
        }
      ]
    },
    {
      "cell_type": "code",
      "source": [
        "filtered_words = [\n",
        "word for word in word_tokens\n",
        "if word.lower() not in stop_words and word not in string.punctuation\n",
        "]\n",
        "cleaned_text = \" \".join(filtered_words)"
      ],
      "metadata": {
        "id": "yfI6JyQIj-A6"
      },
      "execution_count": 41,
      "outputs": []
    },
    {
      "cell_type": "code",
      "source": [
        "print(\"=\"*40)\n",
        "print(f\"Teks Asli : {text}\")\n",
        "print(f\"Teks Bersih: {cleaned_text}\")\n",
        "print(\"=\"*40)"
      ],
      "metadata": {
        "colab": {
          "base_uri": "https://localhost:8080/"
        },
        "id": "Q_Iie9a3kH_z",
        "outputId": "726d2c06-659c-44f7-ede2-cb7d35fb13fc"
      },
      "execution_count": 42,
      "outputs": [
        {
          "output_type": "stream",
          "name": "stdout",
          "text": [
            "========================================\n",
            "Teks Asli : Pengiriman produk ini sangat cepat dan kemasannya juga rapi sekali.\n",
            "Teks Bersih: Pengiriman produk cepat kemasannya rapi\n",
            "========================================\n"
          ]
        }
      ]
    },
    {
      "cell_type": "code",
      "source": [
        "text = \"Pemerintah akan segera mengumumkan kebijakan baru bagi para pelaku usaha kecil.\"\n",
        "stop_words = set(stopwords.words('indonesian'))\n",
        "word_tokens = word_tokenize(text)"
      ],
      "metadata": {
        "id": "HdCPIR61kUNE"
      },
      "execution_count": 43,
      "outputs": []
    },
    {
      "cell_type": "code",
      "source": [
        "filtered_words = [\n",
        "word for word in word_tokens\n",
        "if word.lower() not in stop_words and word not in string.punctuation\n",
        "]\n",
        "cleaned_text = \" \".join(filtered_words)\n",
        "print(\"=\"*40)\n",
        "print(f\"Teks Asli : {text}\")\n",
        "print(f\"Teks Bersih: {cleaned_text}\")\n",
        "print(\"=\"*40)"
      ],
      "metadata": {
        "colab": {
          "base_uri": "https://localhost:8080/"
        },
        "id": "Zv6Q1UiykWsD",
        "outputId": "fc0fdae1-1e3b-41fe-8790-9baa505a2b64"
      },
      "execution_count": 44,
      "outputs": [
        {
          "output_type": "stream",
          "name": "stdout",
          "text": [
            "========================================\n",
            "Teks Asli : Pemerintah akan segera mengumumkan kebijakan baru bagi para pelaku usaha kecil.\n",
            "Teks Bersih: Pemerintah mengumumkan kebijakan pelaku usaha\n",
            "========================================\n"
          ]
        }
      ]
    },
    {
      "cell_type": "code",
      "source": [
        "text = \"Kajian ilmiah ini telah dilaksanakan dengan mengaplikasikan serangkaian pendekatan metodologis yang beragam\"\n",
        "stop_words = set(stopwords.words('indonesian'))\n",
        "word_tokens = word_tokenize(text)\n",
        "filtered_words = [\n",
        "word for word in word_tokens\n",
        "if word.lower() not in stop_words and word not in string.punctuation\n",
        "]\n",
        "cleaned_text = \" \".join(filtered_words)\n",
        "print(\"=\"*40)\n",
        "print(f\"Teks Asli : {text}\")\n",
        "print(f\"Teks Bersih: {cleaned_text}\")\n",
        "print(\"=\"*40)"
      ],
      "metadata": {
        "colab": {
          "base_uri": "https://localhost:8080/"
        },
        "id": "7mQg4ppTkbUc",
        "outputId": "456396d1-b474-4fdc-faba-7f0e1d2001f4"
      },
      "execution_count": 46,
      "outputs": [
        {
          "output_type": "stream",
          "name": "stdout",
          "text": [
            "========================================\n",
            "Teks Asli : Kajian ilmiah ini telah dilaksanakan dengan mengaplikasikan serangkaian pendekatan metodologis yang beragam\n",
            "Teks Bersih: Kajian ilmiah dilaksanakan mengaplikasikan serangkaian pendekatan metodologis beragam\n",
            "========================================\n"
          ]
        }
      ]
    },
    {
      "cell_type": "markdown",
      "source": [
        "# Text Normalization"
      ],
      "metadata": {
        "id": "vgZ2MOvhkl6W"
      }
    },
    {
      "cell_type": "markdown",
      "source": [
        "==== Stemming (Mengubah Kata ke Bentuk Dasar) ===="
      ],
      "metadata": {
        "id": "z1COIa3Bksun"
      }
    },
    {
      "cell_type": "code",
      "source": [
        "!pip install Sastrawi"
      ],
      "metadata": {
        "colab": {
          "base_uri": "https://localhost:8080/"
        },
        "id": "DptMZVUZkwU0",
        "outputId": "ce47fb39-0131-48e5-ba59-860956e79e4a"
      },
      "execution_count": 47,
      "outputs": [
        {
          "output_type": "stream",
          "name": "stdout",
          "text": [
            "Collecting Sastrawi\n",
            "  Downloading Sastrawi-1.0.1-py2.py3-none-any.whl.metadata (909 bytes)\n",
            "Downloading Sastrawi-1.0.1-py2.py3-none-any.whl (209 kB)\n",
            "\u001b[?25l   \u001b[90m━━━━━━━━━━━━━━━━━━━━━━━━━━━━━━━━━━━━━━━━\u001b[0m \u001b[32m0.0/209.7 kB\u001b[0m \u001b[31m?\u001b[0m eta \u001b[36m-:--:--\u001b[0m\r\u001b[2K   \u001b[90m━━━━━━━━━━━━━━━━━━━━━━━━━━━━━━━━━━━━━━━━\u001b[0m \u001b[32m209.7/209.7 kB\u001b[0m \u001b[31m7.2 MB/s\u001b[0m eta \u001b[36m0:00:00\u001b[0m\n",
            "\u001b[?25hInstalling collected packages: Sastrawi\n",
            "Successfully installed Sastrawi-1.0.1\n"
          ]
        }
      ]
    },
    {
      "cell_type": "code",
      "source": [
        "#Mengimpor kelas pembuat stemmer dari library Sastrawi.\n",
        "from Sastrawi.Stemmer.StemmerFactory import StemmerFactory\n",
        "#membuat stemmer\n",
        "factory = StemmerFactory()\n",
        "stemmer = factory.create_stemmer()"
      ],
      "metadata": {
        "id": "HR8yeffAkzv9"
      },
      "execution_count": 48,
      "outputs": []
    },
    {
      "cell_type": "code",
      "source": [
        "text = \"Kualitas masakannya sangat memuaskan dan pelayanannya pun terbaik.\"\n",
        "cleaned_text = stemmer.stem(text)\n",
        "print(f\"Teks Asli: {text}\")\n",
        "print(f\"Teks Bersih (Stemmed): {cleaned_text}\")"
      ],
      "metadata": {
        "colab": {
          "base_uri": "https://localhost:8080/"
        },
        "id": "CRxZRbxPk4C9",
        "outputId": "4b616a0e-87cf-4e44-bd43-f300818d7560"
      },
      "execution_count": 49,
      "outputs": [
        {
          "output_type": "stream",
          "name": "stdout",
          "text": [
            "Teks Asli: Kualitas masakannya sangat memuaskan dan pelayanannya pun terbaik.\n",
            "Teks Bersih (Stemmed): kualitas masakan sangat muas dan layan pun baik\n"
          ]
        }
      ]
    },
    {
      "cell_type": "code",
      "source": [
        "text = \"Pemerintah mengeluarkan peraturan baru mengenai pembatasan kendaraan bermotor.\"\n",
        "cleaned_text = stemmer.stem(text)\n",
        "print(f\"Teks Asli: {text}\")\n",
        "print(f\"Teks Bersih (Stemmed): {cleaned_text}\")"
      ],
      "metadata": {
        "colab": {
          "base_uri": "https://localhost:8080/"
        },
        "id": "pycVBc6zk9b2",
        "outputId": "e2a3ede6-c5a2-49d1-8f92-1e88d562693a"
      },
      "execution_count": 50,
      "outputs": [
        {
          "output_type": "stream",
          "name": "stdout",
          "text": [
            "Teks Asli: Pemerintah mengeluarkan peraturan baru mengenai pembatasan kendaraan bermotor.\n",
            "Teks Bersih (Stemmed): perintah keluar atur baru kena batas kendara motor\n"
          ]
        }
      ]
    },
    {
      "cell_type": "code",
      "source": [
        "text = \"Anak-anak sedang bermain di halaman sambil menjalankan tugas mereka.\"\n",
        "cleaned_text = stemmer.stem(text)\n",
        "print(f\"Teks Asli: {text}\")\n",
        "print(f\"Teks Bersih (Stemmed): {cleaned_text}\")"
      ],
      "metadata": {
        "colab": {
          "base_uri": "https://localhost:8080/"
        },
        "id": "9MncjpeolAIB",
        "outputId": "40b198b3-5f49-4a11-e5a9-bf6d068541c7"
      },
      "execution_count": 51,
      "outputs": [
        {
          "output_type": "stream",
          "name": "stdout",
          "text": [
            "Teks Asli: Anak-anak sedang bermain di halaman sambil menjalankan tugas mereka.\n",
            "Teks Bersih (Stemmed): anak sedang main di halaman sambil jalan tugas mereka\n"
          ]
        }
      ]
    },
    {
      "cell_type": "markdown",
      "source": [
        "==== Lemmatization (Mengubah Kata ke Bentuk Lemma) ===="
      ],
      "metadata": {
        "id": "TjD-6vDKlJHV"
      }
    },
    {
      "cell_type": "code",
      "source": [
        "nltk.download('punkt')\n",
        "nltk.download('wordnet')\n",
        "nltk.download('omw-1.4')\n",
        "import nltk\n",
        "from nltk.stem import WordNetLemmatizer\n",
        "from nltk.tokenize import word_tokenize\n",
        "import nltk\n",
        "from nltk.stem import WordNetLemmatizer\n",
        "from nltk.tokenize import word_tokenize\n",
        "import nltk\n",
        "from nltk.stem import WordNetLemmatizer\n",
        "from nltk.tokenize import word_tokenize"
      ],
      "metadata": {
        "colab": {
          "base_uri": "https://localhost:8080/"
        },
        "id": "N48dIgzrlWnK",
        "outputId": "0e2cc13c-8b43-485d-82fb-97af67f08002"
      },
      "execution_count": 52,
      "outputs": [
        {
          "output_type": "stream",
          "name": "stderr",
          "text": [
            "[nltk_data] Downloading package punkt to /root/nltk_data...\n",
            "[nltk_data]   Package punkt is already up-to-date!\n",
            "[nltk_data] Downloading package wordnet to /root/nltk_data...\n",
            "[nltk_data] Downloading package omw-1.4 to /root/nltk_data...\n"
          ]
        }
      ]
    },
    {
      "cell_type": "code",
      "source": [
        "#Membuat Objek Lemmatizer\n",
        "lemmatizer = WordNetLemmatizer()"
      ],
      "metadata": {
        "id": "Bek76FrclZUH"
      },
      "execution_count": 53,
      "outputs": []
    },
    {
      "cell_type": "code",
      "source": [
        "text = \"The geese and mice are friends with the octopuses and cacti.\"\n",
        "#Tokenisasi\n",
        "word_tokens = word_tokenize(text)\n",
        "#Proses Lemmatization\n",
        "lemmas = [lemmatizer.lemmatize(word, pos='n') for word in word_tokens]\n",
        "cleaned_text = \" \".join(lemmas)\n",
        "print(f\"Teks Asli: {text}\")\n",
        "print(f\"Teks Bersih (Lemmatized): {cleaned_text}\")"
      ],
      "metadata": {
        "colab": {
          "base_uri": "https://localhost:8080/"
        },
        "id": "2jNMNSnMlcAt",
        "outputId": "cbcaf15c-2760-4061-86ef-976b6a6375ba"
      },
      "execution_count": 54,
      "outputs": [
        {
          "output_type": "stream",
          "name": "stdout",
          "text": [
            "Teks Asli: The geese and mice are friends with the octopuses and cacti.\n",
            "Teks Bersih (Lemmatized): The goose and mouse are friend with the octopus and cactus .\n"
          ]
        }
      ]
    },
    {
      "cell_type": "code",
      "source": [
        "# lemmatization pada Kata Kerja (Verbs) dengan Tenses Berbeda\n",
        "lemmatizer = WordNetLemmatizer()\n",
        "text = \"He drove the car while she was driving another one, and he drives carefully.\"\n",
        "word_tokens = word_tokenize(text)\n",
        "lemmas = [lemmatizer.lemmatize(word, pos='v') for word in word_tokens]\n",
        "cleaned_text = \" \".join(lemmas)\n",
        "\n",
        "print(f\"Teks Asli: {text}\")\n",
        "print(f\"Teks Bersih (Lemmatized): {cleaned_text}\")"
      ],
      "metadata": {
        "colab": {
          "base_uri": "https://localhost:8080/"
        },
        "id": "kyXQbTIFlh08",
        "outputId": "acd4a0d8-2bd0-49ae-e74b-c7638a5ba282"
      },
      "execution_count": 56,
      "outputs": [
        {
          "output_type": "stream",
          "name": "stdout",
          "text": [
            "Teks Asli: He drove the car while she was driving another one, and he drives carefully.\n",
            "Teks Bersih (Lemmatized): He drive the car while she be drive another one , and he drive carefully .\n"
          ]
        }
      ]
    },
    {
      "cell_type": "code",
      "source": [
        "# Lemmatization pada Kata Sifat (Adjectives)\n",
        "lemmatizer = WordNetLemmatizer()\n",
        "text = \"The fastest runner has a better technique. Good is not the best.\"\n",
        "word_tokens = word_tokenize(text)\n",
        "lemmas = [lemmatizer.lemmatize(word, pos='a') for word in word_tokens]\n",
        "cleaned_text = \" \".join(lemmas)\n",
        "print(f\"Teks Asli: {text}\")\n",
        "print(f\"Teks Bersih (Lemmatized): {cleaned_text}\")"
      ],
      "metadata": {
        "colab": {
          "base_uri": "https://localhost:8080/"
        },
        "id": "4Q5pcZcultY5",
        "outputId": "51f01a15-6c4a-4e5b-f123-a9ee4978dfc5"
      },
      "execution_count": 58,
      "outputs": [
        {
          "output_type": "stream",
          "name": "stdout",
          "text": [
            "Teks Asli: The fastest runner has a better technique. Good is not the best.\n",
            "Teks Bersih (Lemmatized): The fast runner has a good technique . Good is not the best .\n"
          ]
        }
      ]
    },
    {
      "cell_type": "markdown",
      "source": [
        "# `Tokenizing"
      ],
      "metadata": {
        "id": "nSJ6eCgql2If"
      }
    },
    {
      "cell_type": "code",
      "source": [
        "# mengakses dataset dari kaggle yang telah disimpan ke local storage google drive\n",
        "import pandas as pd\n",
        "path = 'https://drive.google.com/file/d/132ZxK-DFHK-VR5shLBavQ5BemyNTlAG8/view?usp=sharing'\n",
        "file_id=path.split('/')[-2]\n",
        "url='https://drive.google.com/uc?id=' + file_id\n",
        "df = pd.read_csv(url)\n",
        "df.head()"
      ],
      "metadata": {
        "colab": {
          "base_uri": "https://localhost:8080/",
          "height": 206
        },
        "id": "vYuUhjjamlNf",
        "outputId": "40a3619c-5465-4f18-9a96-7adcde0b6c1f"
      },
      "execution_count": 68,
      "outputs": [
        {
          "output_type": "execute_result",
          "data": {
            "text/plain": [
              "                                                 url  \\\n",
              "0  https://www.cnnindonesia.com/nasional/20250420...   \n",
              "1  https://www.cnnindonesia.com/olahraga/20250420...   \n",
              "2  https://www.cnnindonesia.com/ekonomi/202504171...   \n",
              "3  https://www.cnnindonesia.com/nasional/20250420...   \n",
              "4  https://www.cnnindonesia.com/olahraga/20250420...   \n",
              "\n",
              "                                               judul  \\\n",
              "0  Pesan Paskah Uskup Agung Jakarta Kardinal Igna...   \n",
              "1  Mike Tyson: Muhammad Ali Ganas seperti T-Rex, ...   \n",
              "2  Kulkas SBS Banting Harga Gila-gilaan di Transm...   \n",
              "3  Hakim Djuyamto Diduga Titip Rp704 Juta ke Satp...   \n",
              "4  Leicester vs Liverpool: Menanti Gol Kaki Kiri ...   \n",
              "\n",
              "                         tanggal  \\\n",
              "0  Minggu, 20 Apr 2025 15:07 WIB   \n",
              "1  Minggu, 20 Apr 2025 15:01 WIB   \n",
              "2  Minggu, 20 Apr 2025 15:00 WIB   \n",
              "3  Minggu, 20 Apr 2025 14:44 WIB   \n",
              "4  Minggu, 20 Apr 2025 14:33 WIB   \n",
              "\n",
              "                                          isi_berita  \n",
              "0  Uskup Agung Jakarta Kardinal Mgr. Ignatius Suh...  \n",
              "1  Mike Tysonmenyebut legenda tinju dunia,Muhamma...  \n",
              "2  Pesta diskon bertajukTransmart Full Day Saleke...  \n",
              "3  Kejaksaan Agung (Kejagung) menyebut jumlah uan...  \n",
              "4  Mohamed Salahberpeluang menciptakan rekor unik...  "
            ],
            "text/html": [
              "\n",
              "  <div id=\"df-c575159b-67ac-47c1-9c1d-d9bcbdf0fe2b\" class=\"colab-df-container\">\n",
              "    <div>\n",
              "<style scoped>\n",
              "    .dataframe tbody tr th:only-of-type {\n",
              "        vertical-align: middle;\n",
              "    }\n",
              "\n",
              "    .dataframe tbody tr th {\n",
              "        vertical-align: top;\n",
              "    }\n",
              "\n",
              "    .dataframe thead th {\n",
              "        text-align: right;\n",
              "    }\n",
              "</style>\n",
              "<table border=\"1\" class=\"dataframe\">\n",
              "  <thead>\n",
              "    <tr style=\"text-align: right;\">\n",
              "      <th></th>\n",
              "      <th>url</th>\n",
              "      <th>judul</th>\n",
              "      <th>tanggal</th>\n",
              "      <th>isi_berita</th>\n",
              "    </tr>\n",
              "  </thead>\n",
              "  <tbody>\n",
              "    <tr>\n",
              "      <th>0</th>\n",
              "      <td>https://www.cnnindonesia.com/nasional/20250420...</td>\n",
              "      <td>Pesan Paskah Uskup Agung Jakarta Kardinal Igna...</td>\n",
              "      <td>Minggu, 20 Apr 2025 15:07 WIB</td>\n",
              "      <td>Uskup Agung Jakarta Kardinal Mgr. Ignatius Suh...</td>\n",
              "    </tr>\n",
              "    <tr>\n",
              "      <th>1</th>\n",
              "      <td>https://www.cnnindonesia.com/olahraga/20250420...</td>\n",
              "      <td>Mike Tyson: Muhammad Ali Ganas seperti T-Rex, ...</td>\n",
              "      <td>Minggu, 20 Apr 2025 15:01 WIB</td>\n",
              "      <td>Mike Tysonmenyebut legenda tinju dunia,Muhamma...</td>\n",
              "    </tr>\n",
              "    <tr>\n",
              "      <th>2</th>\n",
              "      <td>https://www.cnnindonesia.com/ekonomi/202504171...</td>\n",
              "      <td>Kulkas SBS Banting Harga Gila-gilaan di Transm...</td>\n",
              "      <td>Minggu, 20 Apr 2025 15:00 WIB</td>\n",
              "      <td>Pesta diskon bertajukTransmart Full Day Saleke...</td>\n",
              "    </tr>\n",
              "    <tr>\n",
              "      <th>3</th>\n",
              "      <td>https://www.cnnindonesia.com/nasional/20250420...</td>\n",
              "      <td>Hakim Djuyamto Diduga Titip Rp704 Juta ke Satp...</td>\n",
              "      <td>Minggu, 20 Apr 2025 14:44 WIB</td>\n",
              "      <td>Kejaksaan Agung (Kejagung) menyebut jumlah uan...</td>\n",
              "    </tr>\n",
              "    <tr>\n",
              "      <th>4</th>\n",
              "      <td>https://www.cnnindonesia.com/olahraga/20250420...</td>\n",
              "      <td>Leicester vs Liverpool: Menanti Gol Kaki Kiri ...</td>\n",
              "      <td>Minggu, 20 Apr 2025 14:33 WIB</td>\n",
              "      <td>Mohamed Salahberpeluang menciptakan rekor unik...</td>\n",
              "    </tr>\n",
              "  </tbody>\n",
              "</table>\n",
              "</div>\n",
              "    <div class=\"colab-df-buttons\">\n",
              "\n",
              "  <div class=\"colab-df-container\">\n",
              "    <button class=\"colab-df-convert\" onclick=\"convertToInteractive('df-c575159b-67ac-47c1-9c1d-d9bcbdf0fe2b')\"\n",
              "            title=\"Convert this dataframe to an interactive table.\"\n",
              "            style=\"display:none;\">\n",
              "\n",
              "  <svg xmlns=\"http://www.w3.org/2000/svg\" height=\"24px\" viewBox=\"0 -960 960 960\">\n",
              "    <path d=\"M120-120v-720h720v720H120Zm60-500h600v-160H180v160Zm220 220h160v-160H400v160Zm0 220h160v-160H400v160ZM180-400h160v-160H180v160Zm440 0h160v-160H620v160ZM180-180h160v-160H180v160Zm440 0h160v-160H620v160Z\"/>\n",
              "  </svg>\n",
              "    </button>\n",
              "\n",
              "  <style>\n",
              "    .colab-df-container {\n",
              "      display:flex;\n",
              "      gap: 12px;\n",
              "    }\n",
              "\n",
              "    .colab-df-convert {\n",
              "      background-color: #E8F0FE;\n",
              "      border: none;\n",
              "      border-radius: 50%;\n",
              "      cursor: pointer;\n",
              "      display: none;\n",
              "      fill: #1967D2;\n",
              "      height: 32px;\n",
              "      padding: 0 0 0 0;\n",
              "      width: 32px;\n",
              "    }\n",
              "\n",
              "    .colab-df-convert:hover {\n",
              "      background-color: #E2EBFA;\n",
              "      box-shadow: 0px 1px 2px rgba(60, 64, 67, 0.3), 0px 1px 3px 1px rgba(60, 64, 67, 0.15);\n",
              "      fill: #174EA6;\n",
              "    }\n",
              "\n",
              "    .colab-df-buttons div {\n",
              "      margin-bottom: 4px;\n",
              "    }\n",
              "\n",
              "    [theme=dark] .colab-df-convert {\n",
              "      background-color: #3B4455;\n",
              "      fill: #D2E3FC;\n",
              "    }\n",
              "\n",
              "    [theme=dark] .colab-df-convert:hover {\n",
              "      background-color: #434B5C;\n",
              "      box-shadow: 0px 1px 3px 1px rgba(0, 0, 0, 0.15);\n",
              "      filter: drop-shadow(0px 1px 2px rgba(0, 0, 0, 0.3));\n",
              "      fill: #FFFFFF;\n",
              "    }\n",
              "  </style>\n",
              "\n",
              "    <script>\n",
              "      const buttonEl =\n",
              "        document.querySelector('#df-c575159b-67ac-47c1-9c1d-d9bcbdf0fe2b button.colab-df-convert');\n",
              "      buttonEl.style.display =\n",
              "        google.colab.kernel.accessAllowed ? 'block' : 'none';\n",
              "\n",
              "      async function convertToInteractive(key) {\n",
              "        const element = document.querySelector('#df-c575159b-67ac-47c1-9c1d-d9bcbdf0fe2b');\n",
              "        const dataTable =\n",
              "          await google.colab.kernel.invokeFunction('convertToInteractive',\n",
              "                                                    [key], {});\n",
              "        if (!dataTable) return;\n",
              "\n",
              "        const docLinkHtml = 'Like what you see? Visit the ' +\n",
              "          '<a target=\"_blank\" href=https://colab.research.google.com/notebooks/data_table.ipynb>data table notebook</a>'\n",
              "          + ' to learn more about interactive tables.';\n",
              "        element.innerHTML = '';\n",
              "        dataTable['output_type'] = 'display_data';\n",
              "        await google.colab.output.renderOutput(dataTable, element);\n",
              "        const docLink = document.createElement('div');\n",
              "        docLink.innerHTML = docLinkHtml;\n",
              "        element.appendChild(docLink);\n",
              "      }\n",
              "    </script>\n",
              "  </div>\n",
              "\n",
              "\n",
              "    <div id=\"df-f272d02b-d3e8-4c36-a0f4-ae5e461489e4\">\n",
              "      <button class=\"colab-df-quickchart\" onclick=\"quickchart('df-f272d02b-d3e8-4c36-a0f4-ae5e461489e4')\"\n",
              "                title=\"Suggest charts\"\n",
              "                style=\"display:none;\">\n",
              "\n",
              "<svg xmlns=\"http://www.w3.org/2000/svg\" height=\"24px\"viewBox=\"0 0 24 24\"\n",
              "     width=\"24px\">\n",
              "    <g>\n",
              "        <path d=\"M19 3H5c-1.1 0-2 .9-2 2v14c0 1.1.9 2 2 2h14c1.1 0 2-.9 2-2V5c0-1.1-.9-2-2-2zM9 17H7v-7h2v7zm4 0h-2V7h2v10zm4 0h-2v-4h2v4z\"/>\n",
              "    </g>\n",
              "</svg>\n",
              "      </button>\n",
              "\n",
              "<style>\n",
              "  .colab-df-quickchart {\n",
              "      --bg-color: #E8F0FE;\n",
              "      --fill-color: #1967D2;\n",
              "      --hover-bg-color: #E2EBFA;\n",
              "      --hover-fill-color: #174EA6;\n",
              "      --disabled-fill-color: #AAA;\n",
              "      --disabled-bg-color: #DDD;\n",
              "  }\n",
              "\n",
              "  [theme=dark] .colab-df-quickchart {\n",
              "      --bg-color: #3B4455;\n",
              "      --fill-color: #D2E3FC;\n",
              "      --hover-bg-color: #434B5C;\n",
              "      --hover-fill-color: #FFFFFF;\n",
              "      --disabled-bg-color: #3B4455;\n",
              "      --disabled-fill-color: #666;\n",
              "  }\n",
              "\n",
              "  .colab-df-quickchart {\n",
              "    background-color: var(--bg-color);\n",
              "    border: none;\n",
              "    border-radius: 50%;\n",
              "    cursor: pointer;\n",
              "    display: none;\n",
              "    fill: var(--fill-color);\n",
              "    height: 32px;\n",
              "    padding: 0;\n",
              "    width: 32px;\n",
              "  }\n",
              "\n",
              "  .colab-df-quickchart:hover {\n",
              "    background-color: var(--hover-bg-color);\n",
              "    box-shadow: 0 1px 2px rgba(60, 64, 67, 0.3), 0 1px 3px 1px rgba(60, 64, 67, 0.15);\n",
              "    fill: var(--button-hover-fill-color);\n",
              "  }\n",
              "\n",
              "  .colab-df-quickchart-complete:disabled,\n",
              "  .colab-df-quickchart-complete:disabled:hover {\n",
              "    background-color: var(--disabled-bg-color);\n",
              "    fill: var(--disabled-fill-color);\n",
              "    box-shadow: none;\n",
              "  }\n",
              "\n",
              "  .colab-df-spinner {\n",
              "    border: 2px solid var(--fill-color);\n",
              "    border-color: transparent;\n",
              "    border-bottom-color: var(--fill-color);\n",
              "    animation:\n",
              "      spin 1s steps(1) infinite;\n",
              "  }\n",
              "\n",
              "  @keyframes spin {\n",
              "    0% {\n",
              "      border-color: transparent;\n",
              "      border-bottom-color: var(--fill-color);\n",
              "      border-left-color: var(--fill-color);\n",
              "    }\n",
              "    20% {\n",
              "      border-color: transparent;\n",
              "      border-left-color: var(--fill-color);\n",
              "      border-top-color: var(--fill-color);\n",
              "    }\n",
              "    30% {\n",
              "      border-color: transparent;\n",
              "      border-left-color: var(--fill-color);\n",
              "      border-top-color: var(--fill-color);\n",
              "      border-right-color: var(--fill-color);\n",
              "    }\n",
              "    40% {\n",
              "      border-color: transparent;\n",
              "      border-right-color: var(--fill-color);\n",
              "      border-top-color: var(--fill-color);\n",
              "    }\n",
              "    60% {\n",
              "      border-color: transparent;\n",
              "      border-right-color: var(--fill-color);\n",
              "    }\n",
              "    80% {\n",
              "      border-color: transparent;\n",
              "      border-right-color: var(--fill-color);\n",
              "      border-bottom-color: var(--fill-color);\n",
              "    }\n",
              "    90% {\n",
              "      border-color: transparent;\n",
              "      border-bottom-color: var(--fill-color);\n",
              "    }\n",
              "  }\n",
              "</style>\n",
              "\n",
              "      <script>\n",
              "        async function quickchart(key) {\n",
              "          const quickchartButtonEl =\n",
              "            document.querySelector('#' + key + ' button');\n",
              "          quickchartButtonEl.disabled = true;  // To prevent multiple clicks.\n",
              "          quickchartButtonEl.classList.add('colab-df-spinner');\n",
              "          try {\n",
              "            const charts = await google.colab.kernel.invokeFunction(\n",
              "                'suggestCharts', [key], {});\n",
              "          } catch (error) {\n",
              "            console.error('Error during call to suggestCharts:', error);\n",
              "          }\n",
              "          quickchartButtonEl.classList.remove('colab-df-spinner');\n",
              "          quickchartButtonEl.classList.add('colab-df-quickchart-complete');\n",
              "        }\n",
              "        (() => {\n",
              "          let quickchartButtonEl =\n",
              "            document.querySelector('#df-f272d02b-d3e8-4c36-a0f4-ae5e461489e4 button');\n",
              "          quickchartButtonEl.style.display =\n",
              "            google.colab.kernel.accessAllowed ? 'block' : 'none';\n",
              "        })();\n",
              "      </script>\n",
              "    </div>\n",
              "\n",
              "    </div>\n",
              "  </div>\n"
            ],
            "application/vnd.google.colaboratory.intrinsic+json": {
              "type": "dataframe",
              "variable_name": "df",
              "summary": "{\n  \"name\": \"df\",\n  \"rows\": 4216,\n  \"fields\": [\n    {\n      \"column\": \"url\",\n      \"properties\": {\n        \"dtype\": \"string\",\n        \"num_unique_values\": 4216,\n        \"samples\": [\n          \"https://www.cnnindonesia.com/nasional/20250411200724-20-1217966/taman-tebet-eco-park-jakarta-batal-dibuka-24-jam\",\n          \"https://www.cnnindonesia.com/olahraga/20250327140137-145-1213713/infografis-rapor-debut-kluivert-di-timnas-indonesia\",\n          \"https://www.cnnindonesia.com/nasional/20250404094643-20-1215702/contraflow-di-tol-jagorawi-arah-puncak-diberlakukan-pagi-ini\"\n        ],\n        \"semantic_type\": \"\",\n        \"description\": \"\"\n      }\n    },\n    {\n      \"column\": \"judul\",\n      \"properties\": {\n        \"dtype\": \"string\",\n        \"num_unique_values\": 4216,\n        \"samples\": [\n          \"Taman Tebet Eco Park Jakarta Batal Dibuka 24 Jam\",\n          \"INFOGRAFIS: Rapor Debut Kluivert di Timnas Indonesia\",\n          \"Contraflow di Tol Jagorawi Arah Puncak Diberlakukan Pagi Ini\"\n        ],\n        \"semantic_type\": \"\",\n        \"description\": \"\"\n      }\n    },\n    {\n      \"column\": \"tanggal\",\n      \"properties\": {\n        \"dtype\": \"string\",\n        \"num_unique_values\": 3971,\n        \"samples\": [\n          \"Rabu, 09 Apr 2025 04:40 WIB\",\n          \"Jumat, 11 Apr 2025 15:50 WIB\",\n          \"Rabu, 02 Apr 2025 18:10 WIB\"\n        ],\n        \"semantic_type\": \"\",\n        \"description\": \"\"\n      }\n    },\n    {\n      \"column\": \"isi_berita\",\n      \"properties\": {\n        \"dtype\": \"string\",\n        \"num_unique_values\": 4216,\n        \"samples\": [\n          \"Gubernur DKI JakartaPramono Anungmenyatakan TamanTebet Eco Parkbatal beroperasi 24 jam. Pembatalan dilakukan setelah Pram dialog dengan warga. Dengan demikian, Eco Park Tebet\\u00a0hanya bisa memberikan layanan dari pukul 06.00 hingga 22.00 WIB.  ADVERTISEMENT SCROLL TO CONTINUE WITH CONTENT \\\"Setelah berdialog dengan warga, maka Taman Eco Park bukan dibuka 24 jam, tapi akan dibuka sampai dengan jam 10 malam,\\\" kata Pramono saat dijumpai di Jakarta Selatan, Jumat (11/4). Pramono mengatakan keputusan tersebut dibuat setelah mendengar berbagai masukan dari masyarakat.\\u00a0Dia berkata keputusan menyangkut jam operasi taman harus melibatkan masyarakat sekitar. Pembukaan taman selama 24 jam merupakan salah satu janji kampanye pasangan Pramono Anung-Rano Karno dalam Pilkada Jakarta 2024. Meski Tebet Eco Park batal beroperasi penuh, Pramono memastikan lima taman lainnya tetap akan dibuka selama 24 jam, yaitu Taman Langsat, Taman Literasi, Taman Banteng, Taman Ayodya, dan Taman Leser. Selain itu, tiga dari lima taman tersebut yaitu Taman Langsat, Ayodya, dan Leser akan dijadikan taman utama kawasan ASEAN. Renovasi dan penataan akan dilakukan mulai pertengahan tahun ini menggunakan dana kompensasi Koefisien Lantai Bangunan (KLB).  \",\n          \"Patrick Kluivert telah menjalani dua pertandingan awal sebagai pelatih Timnas Indonesia. Berikut rapor Kluivert di dua laga tersebut.\",\n          \"Rekayasa lalu lintascontraflowdiberlakukan di Tol Jagorawi arahPuncakpada Jumat (4/3) pagi ini. \\\"Untuk mengantisipasi peningkatan volume lalu lintas wisata dan silaturahmi yang terjadi di Ruas Tol Jagorawi arah Puncak pada H+3 Lebaran 2025/1446H atau 4 April 2025, atas diskresi kepolisian, Jasa Marga berlakukan contraflow mulai dari KM 44+500 s.d. KM 46+500 Ruas Tol Jagorawi arah Puncak sejak pukul 06.20 WIB,\\\" ujar Senior Manager Representative Office 1 Jasamarga Metropolitan Tollroad Regional Division Alvin Andituahta Singarimbun di Jakarta. Jasa Marga mengimbau pengguna jalan untuk mengantisipasi rute perjalanan agar dapat mengoptimalkan rekayasa lalu lintas yang sedang berlaku. ADVERTISEMENT SCROLL TO CONTINUE WITH CONTENT Pengguna jalan juga diimbau untuk dapat memastikan kecukupan saldo kartu elektronik sebelum memulai perjalanan untuk menghindari kepadatan ketika bertransaksi di gerbang tol. Selalu patuhi rambu lalu lintas dan ikuti arahan petugas di lapangan. Jasamarga Metropolitan Tollroad Regional Division (JMT) mencatat peningkatan volume lalu lintas di ruas tol wilayah Jabodetabek pada H+1 Lebaran atau Rabu 2 April 2025.  Untuk lalu lintas Jabotabek, tercatat masih ada peningkatan volume lalu lintas transaksi yang signifikan menuju arah Puncak melalui Gerbang Tol (GT) Ciawi 1. Tercatat sebanyak 46.338 kendaraan atau naik 35,63 persen dibandingkan volume lalu lintas transaksi normal yaitu 31.215 kendaraan. Sedangkan volume lalu lintas yang kembali ke Jabodetabek dari arah Cikampek dan Puncak yang terdistribusi melalui Gerbang Tol (GT) Halim, GT Cikunir 6 dan GT Ciawi 2 Total tercatat sebanyak 118.504 kendaraan atau naik 28,61persen dibandingkan volume lalu lintas transaksi normal yaitu 92.145 kendaraan transaksi. Pantauan volume lalu lintas transaksi di GT Halim arah Jakarta sebanyak 58.273 kendaraan atau naik sebesar 5,40 persen terhadap lalu lintas transaksi normal 55.285 kendaraan.  Volume lalu lintas transaksi di GT Cikunir 6 arah Jakarta melalui Jalan Tol MBZ sebanyak 16.003 kendaraan atau naik signifikan sebesar 186,07 persen dari volume lalu lintas transaksi normal sebanyak 5.590 kendaraan. Kemudian volume lalu lintas transaksi di GT Ciawi 2 arah Jakarta tercatat sebanyak 44.228 kendaraan atau naik sebesar 41,44 persen dari volume lalu lintas transaksi normal sebanyak 31.270 kendaraan. \"\n        ],\n        \"semantic_type\": \"\",\n        \"description\": \"\"\n      }\n    }\n  ]\n}"
            }
          },
          "metadata": {},
          "execution_count": 68
        }
      ]
    },
    {
      "cell_type": "code",
      "source": [
        "candidates = ['isi_berita','isi berita','isi','content','text','article','judul','title','body']\n",
        "found = next((c for c in df.columns if c.lower() in candidates), None)\n",
        "if not found:\n",
        "  found = next((c for c in df.columns if any(k in c.lower() for k in ['isi','isi_berita','text','judul','title','content'])), None)\n",
        "if not found:\n",
        "  found = next((c for c in df.columns if df[c].dtype == object), None)\n",
        "if not found:\n",
        "  raise SystemExit(\"Tidak menemukan kolom teks. Pastikan ada setidaknya satu kolom teks.\")\n",
        "\n",
        "\n",
        "# print(\"File:\", fname) # fname is not defined\n",
        "text_col = found\n",
        "df['orig_text_for_preproc'] = df[text_col].astype(str)\n",
        "print(\"\\nContoh teks asli\")\n",
        "display(df[['orig_text_for_preproc']].head(10))"
      ],
      "metadata": {
        "colab": {
          "base_uri": "https://localhost:8080/",
          "height": 399
        },
        "id": "KAKcY_mioO6U",
        "outputId": "ef19cf11-df22-4b3d-9618-afff002ed0d0"
      },
      "execution_count": 76,
      "outputs": [
        {
          "output_type": "stream",
          "name": "stdout",
          "text": [
            "\n",
            "Contoh teks asli\n"
          ]
        },
        {
          "output_type": "display_data",
          "data": {
            "text/plain": [
              "                               orig_text_for_preproc\n",
              "0  Pesan Paskah Uskup Agung Jakarta Kardinal Igna...\n",
              "1  Mike Tyson: Muhammad Ali Ganas seperti T-Rex, ...\n",
              "2  Kulkas SBS Banting Harga Gila-gilaan di Transm...\n",
              "3  Hakim Djuyamto Diduga Titip Rp704 Juta ke Satp...\n",
              "4  Leicester vs Liverpool: Menanti Gol Kaki Kiri ...\n",
              "5  Sepeda Diobral Rp1 Juta di Transmart Full Day ...\n",
              "6  Mungkinkah Arsenal Simpan Tenaga di Liga Inggr...\n",
              "7  Komisi IX DPR: Perusahaan Potong Gaji Karyawan...\n",
              "8  VIDEO: Penampakan Ngeri Pelabuhan Yaman Usai D...\n",
              "9   Perpres Kantor Komunikasi Presiden Digugat ke MA"
            ],
            "text/html": [
              "\n",
              "  <div id=\"df-080d916d-19bb-4ad5-a026-dc4f30d08edb\" class=\"colab-df-container\">\n",
              "    <div>\n",
              "<style scoped>\n",
              "    .dataframe tbody tr th:only-of-type {\n",
              "        vertical-align: middle;\n",
              "    }\n",
              "\n",
              "    .dataframe tbody tr th {\n",
              "        vertical-align: top;\n",
              "    }\n",
              "\n",
              "    .dataframe thead th {\n",
              "        text-align: right;\n",
              "    }\n",
              "</style>\n",
              "<table border=\"1\" class=\"dataframe\">\n",
              "  <thead>\n",
              "    <tr style=\"text-align: right;\">\n",
              "      <th></th>\n",
              "      <th>orig_text_for_preproc</th>\n",
              "    </tr>\n",
              "  </thead>\n",
              "  <tbody>\n",
              "    <tr>\n",
              "      <th>0</th>\n",
              "      <td>Pesan Paskah Uskup Agung Jakarta Kardinal Igna...</td>\n",
              "    </tr>\n",
              "    <tr>\n",
              "      <th>1</th>\n",
              "      <td>Mike Tyson: Muhammad Ali Ganas seperti T-Rex, ...</td>\n",
              "    </tr>\n",
              "    <tr>\n",
              "      <th>2</th>\n",
              "      <td>Kulkas SBS Banting Harga Gila-gilaan di Transm...</td>\n",
              "    </tr>\n",
              "    <tr>\n",
              "      <th>3</th>\n",
              "      <td>Hakim Djuyamto Diduga Titip Rp704 Juta ke Satp...</td>\n",
              "    </tr>\n",
              "    <tr>\n",
              "      <th>4</th>\n",
              "      <td>Leicester vs Liverpool: Menanti Gol Kaki Kiri ...</td>\n",
              "    </tr>\n",
              "    <tr>\n",
              "      <th>5</th>\n",
              "      <td>Sepeda Diobral Rp1 Juta di Transmart Full Day ...</td>\n",
              "    </tr>\n",
              "    <tr>\n",
              "      <th>6</th>\n",
              "      <td>Mungkinkah Arsenal Simpan Tenaga di Liga Inggr...</td>\n",
              "    </tr>\n",
              "    <tr>\n",
              "      <th>7</th>\n",
              "      <td>Komisi IX DPR: Perusahaan Potong Gaji Karyawan...</td>\n",
              "    </tr>\n",
              "    <tr>\n",
              "      <th>8</th>\n",
              "      <td>VIDEO: Penampakan Ngeri Pelabuhan Yaman Usai D...</td>\n",
              "    </tr>\n",
              "    <tr>\n",
              "      <th>9</th>\n",
              "      <td>Perpres Kantor Komunikasi Presiden Digugat ke MA</td>\n",
              "    </tr>\n",
              "  </tbody>\n",
              "</table>\n",
              "</div>\n",
              "    <div class=\"colab-df-buttons\">\n",
              "\n",
              "  <div class=\"colab-df-container\">\n",
              "    <button class=\"colab-df-convert\" onclick=\"convertToInteractive('df-080d916d-19bb-4ad5-a026-dc4f30d08edb')\"\n",
              "            title=\"Convert this dataframe to an interactive table.\"\n",
              "            style=\"display:none;\">\n",
              "\n",
              "  <svg xmlns=\"http://www.w3.org/2000/svg\" height=\"24px\" viewBox=\"0 -960 960 960\">\n",
              "    <path d=\"M120-120v-720h720v720H120Zm60-500h600v-160H180v160Zm220 220h160v-160H400v160Zm0 220h160v-160H400v160ZM180-400h160v-160H180v160Zm440 0h160v-160H620v160ZM180-180h160v-160H180v160Zm440 0h160v-160H620v160Z\"/>\n",
              "  </svg>\n",
              "    </button>\n",
              "\n",
              "  <style>\n",
              "    .colab-df-container {\n",
              "      display:flex;\n",
              "      gap: 12px;\n",
              "    }\n",
              "\n",
              "    .colab-df-convert {\n",
              "      background-color: #E8F0FE;\n",
              "      border: none;\n",
              "      border-radius: 50%;\n",
              "      cursor: pointer;\n",
              "      display: none;\n",
              "      fill: #1967D2;\n",
              "      height: 32px;\n",
              "      padding: 0 0 0 0;\n",
              "      width: 32px;\n",
              "    }\n",
              "\n",
              "    .colab-df-convert:hover {\n",
              "      background-color: #E2EBFA;\n",
              "      box-shadow: 0px 1px 2px rgba(60, 64, 67, 0.3), 0px 1px 3px 1px rgba(60, 64, 67, 0.15);\n",
              "      fill: #174EA6;\n",
              "    }\n",
              "\n",
              "    .colab-df-buttons div {\n",
              "      margin-bottom: 4px;\n",
              "    }\n",
              "\n",
              "    [theme=dark] .colab-df-convert {\n",
              "      background-color: #3B4455;\n",
              "      fill: #D2E3FC;\n",
              "    }\n",
              "\n",
              "    [theme=dark] .colab-df-convert:hover {\n",
              "      background-color: #434B5C;\n",
              "      box-shadow: 0px 1px 3px 1px rgba(0, 0, 0, 0.15);\n",
              "      filter: drop-shadow(0px 1px 2px rgba(0, 0, 0, 0.3));\n",
              "      fill: #FFFFFF;\n",
              "    }\n",
              "  </style>\n",
              "\n",
              "    <script>\n",
              "      const buttonEl =\n",
              "        document.querySelector('#df-080d916d-19bb-4ad5-a026-dc4f30d08edb button.colab-df-convert');\n",
              "      buttonEl.style.display =\n",
              "        google.colab.kernel.accessAllowed ? 'block' : 'none';\n",
              "\n",
              "      async function convertToInteractive(key) {\n",
              "        const element = document.querySelector('#df-080d916d-19bb-4ad5-a026-dc4f30d08edb');\n",
              "        const dataTable =\n",
              "          await google.colab.kernel.invokeFunction('convertToInteractive',\n",
              "                                                    [key], {});\n",
              "        if (!dataTable) return;\n",
              "\n",
              "        const docLinkHtml = 'Like what you see? Visit the ' +\n",
              "          '<a target=\"_blank\" href=https://colab.research.google.com/notebooks/data_table.ipynb>data table notebook</a>'\n",
              "          + ' to learn more about interactive tables.';\n",
              "        element.innerHTML = '';\n",
              "        dataTable['output_type'] = 'display_data';\n",
              "        await google.colab.output.renderOutput(dataTable, element);\n",
              "        const docLink = document.createElement('div');\n",
              "        docLink.innerHTML = docLinkHtml;\n",
              "        element.appendChild(docLink);\n",
              "      }\n",
              "    </script>\n",
              "  </div>\n",
              "\n",
              "\n",
              "    <div id=\"df-adff2700-6edf-4063-be2e-e07f03b015cc\">\n",
              "      <button class=\"colab-df-quickchart\" onclick=\"quickchart('df-adff2700-6edf-4063-be2e-e07f03b015cc')\"\n",
              "                title=\"Suggest charts\"\n",
              "                style=\"display:none;\">\n",
              "\n",
              "<svg xmlns=\"http://www.w3.org/2000/svg\" height=\"24px\"viewBox=\"0 0 24 24\"\n",
              "     width=\"24px\">\n",
              "    <g>\n",
              "        <path d=\"M19 3H5c-1.1 0-2 .9-2 2v14c0 1.1.9 2 2 2h14c1.1 0 2-.9 2-2V5c0-1.1-.9-2-2-2zM9 17H7v-7h2v7zm4 0h-2V7h2v10zm4 0h-2v-4h2v4z\"/>\n",
              "    </g>\n",
              "</svg>\n",
              "      </button>\n",
              "\n",
              "<style>\n",
              "  .colab-df-quickchart {\n",
              "      --bg-color: #E8F0FE;\n",
              "      --fill-color: #1967D2;\n",
              "      --hover-bg-color: #E2EBFA;\n",
              "      --hover-fill-color: #174EA6;\n",
              "      --disabled-fill-color: #AAA;\n",
              "      --disabled-bg-color: #DDD;\n",
              "  }\n",
              "\n",
              "  [theme=dark] .colab-df-quickchart {\n",
              "      --bg-color: #3B4455;\n",
              "      --fill-color: #D2E3FC;\n",
              "      --hover-bg-color: #434B5C;\n",
              "      --hover-fill-color: #FFFFFF;\n",
              "      --disabled-bg-color: #3B4455;\n",
              "      --disabled-fill-color: #666;\n",
              "  }\n",
              "\n",
              "  .colab-df-quickchart {\n",
              "    background-color: var(--bg-color);\n",
              "    border: none;\n",
              "    border-radius: 50%;\n",
              "    cursor: pointer;\n",
              "    display: none;\n",
              "    fill: var(--fill-color);\n",
              "    height: 32px;\n",
              "    padding: 0;\n",
              "    width: 32px;\n",
              "  }\n",
              "\n",
              "  .colab-df-quickchart:hover {\n",
              "    background-color: var(--hover-bg-color);\n",
              "    box-shadow: 0 1px 2px rgba(60, 64, 67, 0.3), 0 1px 3px 1px rgba(60, 64, 67, 0.15);\n",
              "    fill: var(--button-hover-fill-color);\n",
              "  }\n",
              "\n",
              "  .colab-df-quickchart-complete:disabled,\n",
              "  .colab-df-quickchart-complete:disabled:hover {\n",
              "    background-color: var(--disabled-bg-color);\n",
              "    fill: var(--disabled-fill-color);\n",
              "    box-shadow: none;\n",
              "  }\n",
              "\n",
              "  .colab-df-spinner {\n",
              "    border: 2px solid var(--fill-color);\n",
              "    border-color: transparent;\n",
              "    border-bottom-color: var(--fill-color);\n",
              "    animation:\n",
              "      spin 1s steps(1) infinite;\n",
              "  }\n",
              "\n",
              "  @keyframes spin {\n",
              "    0% {\n",
              "      border-color: transparent;\n",
              "      border-bottom-color: var(--fill-color);\n",
              "      border-left-color: var(--fill-color);\n",
              "    }\n",
              "    20% {\n",
              "      border-color: transparent;\n",
              "      border-left-color: var(--fill-color);\n",
              "      border-top-color: var(--fill-color);\n",
              "    }\n",
              "    30% {\n",
              "      border-color: transparent;\n",
              "      border-left-color: var(--fill-color);\n",
              "      border-top-color: var(--fill-color);\n",
              "      border-right-color: var(--fill-color);\n",
              "    }\n",
              "    40% {\n",
              "      border-color: transparent;\n",
              "      border-right-color: var(--fill-color);\n",
              "      border-top-color: var(--fill-color);\n",
              "    }\n",
              "    60% {\n",
              "      border-color: transparent;\n",
              "      border-right-color: var(--fill-color);\n",
              "    }\n",
              "    80% {\n",
              "      border-color: transparent;\n",
              "      border-right-color: var(--fill-color);\n",
              "      border-bottom-color: var(--fill-color);\n",
              "    }\n",
              "    90% {\n",
              "      border-color: transparent;\n",
              "      border-bottom-color: var(--fill-color);\n",
              "    }\n",
              "  }\n",
              "</style>\n",
              "\n",
              "      <script>\n",
              "        async function quickchart(key) {\n",
              "          const quickchartButtonEl =\n",
              "            document.querySelector('#' + key + ' button');\n",
              "          quickchartButtonEl.disabled = true;  // To prevent multiple clicks.\n",
              "          quickchartButtonEl.classList.add('colab-df-spinner');\n",
              "          try {\n",
              "            const charts = await google.colab.kernel.invokeFunction(\n",
              "                'suggestCharts', [key], {});\n",
              "          } catch (error) {\n",
              "            console.error('Error during call to suggestCharts:', error);\n",
              "          }\n",
              "          quickchartButtonEl.classList.remove('colab-df-spinner');\n",
              "          quickchartButtonEl.classList.add('colab-df-quickchart-complete');\n",
              "        }\n",
              "        (() => {\n",
              "          let quickchartButtonEl =\n",
              "            document.querySelector('#df-adff2700-6edf-4063-be2e-e07f03b015cc button');\n",
              "          quickchartButtonEl.style.display =\n",
              "            google.colab.kernel.accessAllowed ? 'block' : 'none';\n",
              "        })();\n",
              "      </script>\n",
              "    </div>\n",
              "\n",
              "    </div>\n",
              "  </div>\n"
            ],
            "application/vnd.google.colaboratory.intrinsic+json": {
              "type": "dataframe",
              "summary": "{\n  \"name\": \"display(df[['orig_text_for_preproc']]\",\n  \"rows\": 10,\n  \"fields\": [\n    {\n      \"column\": \"orig_text_for_preproc\",\n      \"properties\": {\n        \"dtype\": \"string\",\n        \"num_unique_values\": 10,\n        \"samples\": [\n          \"VIDEO: Penampakan Ngeri Pelabuhan Yaman Usai Dibombardir AS, 80 Tewas\",\n          \"Mike Tyson: Muhammad Ali Ganas seperti T-Rex, tapi Sangat Tampan\",\n          \"Sepeda Diobral Rp1 Juta di Transmart Full Day Sale Hari Ini, Mau?\"\n        ],\n        \"semantic_type\": \"\",\n        \"description\": \"\"\n      }\n    }\n  ]\n}"
            }
          },
          "metadata": {}
        }
      ]
    },
    {
      "cell_type": "code",
      "source": [
        "# 1) Case Folding\n",
        "df['casefold_sebelum'] = df['orig_text_for_preproc']"
      ],
      "metadata": {
        "id": "DluEd8Wpoyfo"
      },
      "execution_count": 77,
      "outputs": []
    },
    {
      "cell_type": "code",
      "source": [
        "df['casefold_sesudah'] = df['casefold_sebelum'].str.lower()\n",
        "print(\"CASE FOLDING\")\n",
        "display(df[['casefold_sebelum','casefold_sesudah']].head(10))"
      ],
      "metadata": {
        "colab": {
          "base_uri": "https://localhost:8080/",
          "height": 381
        },
        "id": "_GrxUQrto0Ei",
        "outputId": "cd5c1668-98ab-47b3-b31e-0fe2f89a7a0a"
      },
      "execution_count": 78,
      "outputs": [
        {
          "output_type": "stream",
          "name": "stdout",
          "text": [
            "CASE FOLDING\n"
          ]
        },
        {
          "output_type": "display_data",
          "data": {
            "text/plain": [
              "                                    casefold_sebelum  \\\n",
              "0  Pesan Paskah Uskup Agung Jakarta Kardinal Igna...   \n",
              "1  Mike Tyson: Muhammad Ali Ganas seperti T-Rex, ...   \n",
              "2  Kulkas SBS Banting Harga Gila-gilaan di Transm...   \n",
              "3  Hakim Djuyamto Diduga Titip Rp704 Juta ke Satp...   \n",
              "4  Leicester vs Liverpool: Menanti Gol Kaki Kiri ...   \n",
              "5  Sepeda Diobral Rp1 Juta di Transmart Full Day ...   \n",
              "6  Mungkinkah Arsenal Simpan Tenaga di Liga Inggr...   \n",
              "7  Komisi IX DPR: Perusahaan Potong Gaji Karyawan...   \n",
              "8  VIDEO: Penampakan Ngeri Pelabuhan Yaman Usai D...   \n",
              "9   Perpres Kantor Komunikasi Presiden Digugat ke MA   \n",
              "\n",
              "                                    casefold_sesudah  \n",
              "0  pesan paskah uskup agung jakarta kardinal igna...  \n",
              "1  mike tyson: muhammad ali ganas seperti t-rex, ...  \n",
              "2  kulkas sbs banting harga gila-gilaan di transm...  \n",
              "3  hakim djuyamto diduga titip rp704 juta ke satp...  \n",
              "4  leicester vs liverpool: menanti gol kaki kiri ...  \n",
              "5  sepeda diobral rp1 juta di transmart full day ...  \n",
              "6  mungkinkah arsenal simpan tenaga di liga inggr...  \n",
              "7  komisi ix dpr: perusahaan potong gaji karyawan...  \n",
              "8  video: penampakan ngeri pelabuhan yaman usai d...  \n",
              "9   perpres kantor komunikasi presiden digugat ke ma  "
            ],
            "text/html": [
              "\n",
              "  <div id=\"df-12098745-cc46-4b9d-8db0-bc7c988eba1d\" class=\"colab-df-container\">\n",
              "    <div>\n",
              "<style scoped>\n",
              "    .dataframe tbody tr th:only-of-type {\n",
              "        vertical-align: middle;\n",
              "    }\n",
              "\n",
              "    .dataframe tbody tr th {\n",
              "        vertical-align: top;\n",
              "    }\n",
              "\n",
              "    .dataframe thead th {\n",
              "        text-align: right;\n",
              "    }\n",
              "</style>\n",
              "<table border=\"1\" class=\"dataframe\">\n",
              "  <thead>\n",
              "    <tr style=\"text-align: right;\">\n",
              "      <th></th>\n",
              "      <th>casefold_sebelum</th>\n",
              "      <th>casefold_sesudah</th>\n",
              "    </tr>\n",
              "  </thead>\n",
              "  <tbody>\n",
              "    <tr>\n",
              "      <th>0</th>\n",
              "      <td>Pesan Paskah Uskup Agung Jakarta Kardinal Igna...</td>\n",
              "      <td>pesan paskah uskup agung jakarta kardinal igna...</td>\n",
              "    </tr>\n",
              "    <tr>\n",
              "      <th>1</th>\n",
              "      <td>Mike Tyson: Muhammad Ali Ganas seperti T-Rex, ...</td>\n",
              "      <td>mike tyson: muhammad ali ganas seperti t-rex, ...</td>\n",
              "    </tr>\n",
              "    <tr>\n",
              "      <th>2</th>\n",
              "      <td>Kulkas SBS Banting Harga Gila-gilaan di Transm...</td>\n",
              "      <td>kulkas sbs banting harga gila-gilaan di transm...</td>\n",
              "    </tr>\n",
              "    <tr>\n",
              "      <th>3</th>\n",
              "      <td>Hakim Djuyamto Diduga Titip Rp704 Juta ke Satp...</td>\n",
              "      <td>hakim djuyamto diduga titip rp704 juta ke satp...</td>\n",
              "    </tr>\n",
              "    <tr>\n",
              "      <th>4</th>\n",
              "      <td>Leicester vs Liverpool: Menanti Gol Kaki Kiri ...</td>\n",
              "      <td>leicester vs liverpool: menanti gol kaki kiri ...</td>\n",
              "    </tr>\n",
              "    <tr>\n",
              "      <th>5</th>\n",
              "      <td>Sepeda Diobral Rp1 Juta di Transmart Full Day ...</td>\n",
              "      <td>sepeda diobral rp1 juta di transmart full day ...</td>\n",
              "    </tr>\n",
              "    <tr>\n",
              "      <th>6</th>\n",
              "      <td>Mungkinkah Arsenal Simpan Tenaga di Liga Inggr...</td>\n",
              "      <td>mungkinkah arsenal simpan tenaga di liga inggr...</td>\n",
              "    </tr>\n",
              "    <tr>\n",
              "      <th>7</th>\n",
              "      <td>Komisi IX DPR: Perusahaan Potong Gaji Karyawan...</td>\n",
              "      <td>komisi ix dpr: perusahaan potong gaji karyawan...</td>\n",
              "    </tr>\n",
              "    <tr>\n",
              "      <th>8</th>\n",
              "      <td>VIDEO: Penampakan Ngeri Pelabuhan Yaman Usai D...</td>\n",
              "      <td>video: penampakan ngeri pelabuhan yaman usai d...</td>\n",
              "    </tr>\n",
              "    <tr>\n",
              "      <th>9</th>\n",
              "      <td>Perpres Kantor Komunikasi Presiden Digugat ke MA</td>\n",
              "      <td>perpres kantor komunikasi presiden digugat ke ma</td>\n",
              "    </tr>\n",
              "  </tbody>\n",
              "</table>\n",
              "</div>\n",
              "    <div class=\"colab-df-buttons\">\n",
              "\n",
              "  <div class=\"colab-df-container\">\n",
              "    <button class=\"colab-df-convert\" onclick=\"convertToInteractive('df-12098745-cc46-4b9d-8db0-bc7c988eba1d')\"\n",
              "            title=\"Convert this dataframe to an interactive table.\"\n",
              "            style=\"display:none;\">\n",
              "\n",
              "  <svg xmlns=\"http://www.w3.org/2000/svg\" height=\"24px\" viewBox=\"0 -960 960 960\">\n",
              "    <path d=\"M120-120v-720h720v720H120Zm60-500h600v-160H180v160Zm220 220h160v-160H400v160Zm0 220h160v-160H400v160ZM180-400h160v-160H180v160Zm440 0h160v-160H620v160ZM180-180h160v-160H180v160Zm440 0h160v-160H620v160Z\"/>\n",
              "  </svg>\n",
              "    </button>\n",
              "\n",
              "  <style>\n",
              "    .colab-df-container {\n",
              "      display:flex;\n",
              "      gap: 12px;\n",
              "    }\n",
              "\n",
              "    .colab-df-convert {\n",
              "      background-color: #E8F0FE;\n",
              "      border: none;\n",
              "      border-radius: 50%;\n",
              "      cursor: pointer;\n",
              "      display: none;\n",
              "      fill: #1967D2;\n",
              "      height: 32px;\n",
              "      padding: 0 0 0 0;\n",
              "      width: 32px;\n",
              "    }\n",
              "\n",
              "    .colab-df-convert:hover {\n",
              "      background-color: #E2EBFA;\n",
              "      box-shadow: 0px 1px 2px rgba(60, 64, 67, 0.3), 0px 1px 3px 1px rgba(60, 64, 67, 0.15);\n",
              "      fill: #174EA6;\n",
              "    }\n",
              "\n",
              "    .colab-df-buttons div {\n",
              "      margin-bottom: 4px;\n",
              "    }\n",
              "\n",
              "    [theme=dark] .colab-df-convert {\n",
              "      background-color: #3B4455;\n",
              "      fill: #D2E3FC;\n",
              "    }\n",
              "\n",
              "    [theme=dark] .colab-df-convert:hover {\n",
              "      background-color: #434B5C;\n",
              "      box-shadow: 0px 1px 3px 1px rgba(0, 0, 0, 0.15);\n",
              "      filter: drop-shadow(0px 1px 2px rgba(0, 0, 0, 0.3));\n",
              "      fill: #FFFFFF;\n",
              "    }\n",
              "  </style>\n",
              "\n",
              "    <script>\n",
              "      const buttonEl =\n",
              "        document.querySelector('#df-12098745-cc46-4b9d-8db0-bc7c988eba1d button.colab-df-convert');\n",
              "      buttonEl.style.display =\n",
              "        google.colab.kernel.accessAllowed ? 'block' : 'none';\n",
              "\n",
              "      async function convertToInteractive(key) {\n",
              "        const element = document.querySelector('#df-12098745-cc46-4b9d-8db0-bc7c988eba1d');\n",
              "        const dataTable =\n",
              "          await google.colab.kernel.invokeFunction('convertToInteractive',\n",
              "                                                    [key], {});\n",
              "        if (!dataTable) return;\n",
              "\n",
              "        const docLinkHtml = 'Like what you see? Visit the ' +\n",
              "          '<a target=\"_blank\" href=https://colab.research.google.com/notebooks/data_table.ipynb>data table notebook</a>'\n",
              "          + ' to learn more about interactive tables.';\n",
              "        element.innerHTML = '';\n",
              "        dataTable['output_type'] = 'display_data';\n",
              "        await google.colab.output.renderOutput(dataTable, element);\n",
              "        const docLink = document.createElement('div');\n",
              "        docLink.innerHTML = docLinkHtml;\n",
              "        element.appendChild(docLink);\n",
              "      }\n",
              "    </script>\n",
              "  </div>\n",
              "\n",
              "\n",
              "    <div id=\"df-33f40c8f-19e5-4ce8-a2de-8044274e810c\">\n",
              "      <button class=\"colab-df-quickchart\" onclick=\"quickchart('df-33f40c8f-19e5-4ce8-a2de-8044274e810c')\"\n",
              "                title=\"Suggest charts\"\n",
              "                style=\"display:none;\">\n",
              "\n",
              "<svg xmlns=\"http://www.w3.org/2000/svg\" height=\"24px\"viewBox=\"0 0 24 24\"\n",
              "     width=\"24px\">\n",
              "    <g>\n",
              "        <path d=\"M19 3H5c-1.1 0-2 .9-2 2v14c0 1.1.9 2 2 2h14c1.1 0 2-.9 2-2V5c0-1.1-.9-2-2-2zM9 17H7v-7h2v7zm4 0h-2V7h2v10zm4 0h-2v-4h2v4z\"/>\n",
              "    </g>\n",
              "</svg>\n",
              "      </button>\n",
              "\n",
              "<style>\n",
              "  .colab-df-quickchart {\n",
              "      --bg-color: #E8F0FE;\n",
              "      --fill-color: #1967D2;\n",
              "      --hover-bg-color: #E2EBFA;\n",
              "      --hover-fill-color: #174EA6;\n",
              "      --disabled-fill-color: #AAA;\n",
              "      --disabled-bg-color: #DDD;\n",
              "  }\n",
              "\n",
              "  [theme=dark] .colab-df-quickchart {\n",
              "      --bg-color: #3B4455;\n",
              "      --fill-color: #D2E3FC;\n",
              "      --hover-bg-color: #434B5C;\n",
              "      --hover-fill-color: #FFFFFF;\n",
              "      --disabled-bg-color: #3B4455;\n",
              "      --disabled-fill-color: #666;\n",
              "  }\n",
              "\n",
              "  .colab-df-quickchart {\n",
              "    background-color: var(--bg-color);\n",
              "    border: none;\n",
              "    border-radius: 50%;\n",
              "    cursor: pointer;\n",
              "    display: none;\n",
              "    fill: var(--fill-color);\n",
              "    height: 32px;\n",
              "    padding: 0;\n",
              "    width: 32px;\n",
              "  }\n",
              "\n",
              "  .colab-df-quickchart:hover {\n",
              "    background-color: var(--hover-bg-color);\n",
              "    box-shadow: 0 1px 2px rgba(60, 64, 67, 0.3), 0 1px 3px 1px rgba(60, 64, 67, 0.15);\n",
              "    fill: var(--button-hover-fill-color);\n",
              "  }\n",
              "\n",
              "  .colab-df-quickchart-complete:disabled,\n",
              "  .colab-df-quickchart-complete:disabled:hover {\n",
              "    background-color: var(--disabled-bg-color);\n",
              "    fill: var(--disabled-fill-color);\n",
              "    box-shadow: none;\n",
              "  }\n",
              "\n",
              "  .colab-df-spinner {\n",
              "    border: 2px solid var(--fill-color);\n",
              "    border-color: transparent;\n",
              "    border-bottom-color: var(--fill-color);\n",
              "    animation:\n",
              "      spin 1s steps(1) infinite;\n",
              "  }\n",
              "\n",
              "  @keyframes spin {\n",
              "    0% {\n",
              "      border-color: transparent;\n",
              "      border-bottom-color: var(--fill-color);\n",
              "      border-left-color: var(--fill-color);\n",
              "    }\n",
              "    20% {\n",
              "      border-color: transparent;\n",
              "      border-left-color: var(--fill-color);\n",
              "      border-top-color: var(--fill-color);\n",
              "    }\n",
              "    30% {\n",
              "      border-color: transparent;\n",
              "      border-left-color: var(--fill-color);\n",
              "      border-top-color: var(--fill-color);\n",
              "      border-right-color: var(--fill-color);\n",
              "    }\n",
              "    40% {\n",
              "      border-color: transparent;\n",
              "      border-right-color: var(--fill-color);\n",
              "      border-top-color: var(--fill-color);\n",
              "    }\n",
              "    60% {\n",
              "      border-color: transparent;\n",
              "      border-right-color: var(--fill-color);\n",
              "    }\n",
              "    80% {\n",
              "      border-color: transparent;\n",
              "      border-right-color: var(--fill-color);\n",
              "      border-bottom-color: var(--fill-color);\n",
              "    }\n",
              "    90% {\n",
              "      border-color: transparent;\n",
              "      border-bottom-color: var(--fill-color);\n",
              "    }\n",
              "  }\n",
              "</style>\n",
              "\n",
              "      <script>\n",
              "        async function quickchart(key) {\n",
              "          const quickchartButtonEl =\n",
              "            document.querySelector('#' + key + ' button');\n",
              "          quickchartButtonEl.disabled = true;  // To prevent multiple clicks.\n",
              "          quickchartButtonEl.classList.add('colab-df-spinner');\n",
              "          try {\n",
              "            const charts = await google.colab.kernel.invokeFunction(\n",
              "                'suggestCharts', [key], {});\n",
              "          } catch (error) {\n",
              "            console.error('Error during call to suggestCharts:', error);\n",
              "          }\n",
              "          quickchartButtonEl.classList.remove('colab-df-spinner');\n",
              "          quickchartButtonEl.classList.add('colab-df-quickchart-complete');\n",
              "        }\n",
              "        (() => {\n",
              "          let quickchartButtonEl =\n",
              "            document.querySelector('#df-33f40c8f-19e5-4ce8-a2de-8044274e810c button');\n",
              "          quickchartButtonEl.style.display =\n",
              "            google.colab.kernel.accessAllowed ? 'block' : 'none';\n",
              "        })();\n",
              "      </script>\n",
              "    </div>\n",
              "\n",
              "    </div>\n",
              "  </div>\n"
            ],
            "application/vnd.google.colaboratory.intrinsic+json": {
              "type": "dataframe",
              "summary": "{\n  \"name\": \"display(df[['casefold_sebelum','casefold_sesudah']]\",\n  \"rows\": 10,\n  \"fields\": [\n    {\n      \"column\": \"casefold_sebelum\",\n      \"properties\": {\n        \"dtype\": \"string\",\n        \"num_unique_values\": 10,\n        \"samples\": [\n          \"VIDEO: Penampakan Ngeri Pelabuhan Yaman Usai Dibombardir AS, 80 Tewas\",\n          \"Mike Tyson: Muhammad Ali Ganas seperti T-Rex, tapi Sangat Tampan\",\n          \"Sepeda Diobral Rp1 Juta di Transmart Full Day Sale Hari Ini, Mau?\"\n        ],\n        \"semantic_type\": \"\",\n        \"description\": \"\"\n      }\n    },\n    {\n      \"column\": \"casefold_sesudah\",\n      \"properties\": {\n        \"dtype\": \"string\",\n        \"num_unique_values\": 10,\n        \"samples\": [\n          \"video: penampakan ngeri pelabuhan yaman usai dibombardir as, 80 tewas\",\n          \"mike tyson: muhammad ali ganas seperti t-rex, tapi sangat tampan\",\n          \"sepeda diobral rp1 juta di transmart full day sale hari ini, mau?\"\n        ],\n        \"semantic_type\": \"\",\n        \"description\": \"\"\n      }\n    }\n  ]\n}"
            }
          },
          "metadata": {}
        }
      ]
    },
    {
      "cell_type": "code",
      "source": [
        "# 2) Hapus karakter khusus (ganti non-word jadi spasi)\n",
        "df['hapus_karakter_sebelum'] = df['casefold_sesudah']\n",
        "# gunakan vectorized str.replace; pastikan tipe string\n",
        "df['nospecials_sesudah'] = (df['hapus_karakter_sebelum']\n",
        ".fillna('')\n",
        ".astype(str)\n",
        ".str.replace(r'[^\\w\\s]', ' ', regex=True)\n",
        ".str.replace('_', ' '))\n",
        "print(\"HAPUS KARAKTER KHUSUS\")\n",
        "display(df[['hapus_karakter_sebelum','nospecials_sesudah']].head(10))"
      ],
      "metadata": {
        "colab": {
          "base_uri": "https://localhost:8080/",
          "height": 381
        },
        "id": "WK3tigWAo5Y2",
        "outputId": "a1f17ebc-3ae9-4278-82bf-f1a40f4a164e"
      },
      "execution_count": 79,
      "outputs": [
        {
          "output_type": "stream",
          "name": "stdout",
          "text": [
            "HAPUS KARAKTER KHUSUS\n"
          ]
        },
        {
          "output_type": "display_data",
          "data": {
            "text/plain": [
              "                              hapus_karakter_sebelum  \\\n",
              "0  pesan paskah uskup agung jakarta kardinal igna...   \n",
              "1  mike tyson: muhammad ali ganas seperti t-rex, ...   \n",
              "2  kulkas sbs banting harga gila-gilaan di transm...   \n",
              "3  hakim djuyamto diduga titip rp704 juta ke satp...   \n",
              "4  leicester vs liverpool: menanti gol kaki kiri ...   \n",
              "5  sepeda diobral rp1 juta di transmart full day ...   \n",
              "6  mungkinkah arsenal simpan tenaga di liga inggr...   \n",
              "7  komisi ix dpr: perusahaan potong gaji karyawan...   \n",
              "8  video: penampakan ngeri pelabuhan yaman usai d...   \n",
              "9   perpres kantor komunikasi presiden digugat ke ma   \n",
              "\n",
              "                                  nospecials_sesudah  \n",
              "0  pesan paskah uskup agung jakarta kardinal igna...  \n",
              "1  mike tyson  muhammad ali ganas seperti t rex  ...  \n",
              "2  kulkas sbs banting harga gila gilaan di transm...  \n",
              "3  hakim djuyamto diduga titip rp704 juta ke satp...  \n",
              "4  leicester vs liverpool  menanti gol kaki kiri ...  \n",
              "5  sepeda diobral rp1 juta di transmart full day ...  \n",
              "6  mungkinkah arsenal simpan tenaga di liga inggr...  \n",
              "7  komisi ix dpr  perusahaan potong gaji karyawan...  \n",
              "8  video  penampakan ngeri pelabuhan yaman usai d...  \n",
              "9   perpres kantor komunikasi presiden digugat ke ma  "
            ],
            "text/html": [
              "\n",
              "  <div id=\"df-8502e59a-78dd-4b2f-b278-c215ab468f59\" class=\"colab-df-container\">\n",
              "    <div>\n",
              "<style scoped>\n",
              "    .dataframe tbody tr th:only-of-type {\n",
              "        vertical-align: middle;\n",
              "    }\n",
              "\n",
              "    .dataframe tbody tr th {\n",
              "        vertical-align: top;\n",
              "    }\n",
              "\n",
              "    .dataframe thead th {\n",
              "        text-align: right;\n",
              "    }\n",
              "</style>\n",
              "<table border=\"1\" class=\"dataframe\">\n",
              "  <thead>\n",
              "    <tr style=\"text-align: right;\">\n",
              "      <th></th>\n",
              "      <th>hapus_karakter_sebelum</th>\n",
              "      <th>nospecials_sesudah</th>\n",
              "    </tr>\n",
              "  </thead>\n",
              "  <tbody>\n",
              "    <tr>\n",
              "      <th>0</th>\n",
              "      <td>pesan paskah uskup agung jakarta kardinal igna...</td>\n",
              "      <td>pesan paskah uskup agung jakarta kardinal igna...</td>\n",
              "    </tr>\n",
              "    <tr>\n",
              "      <th>1</th>\n",
              "      <td>mike tyson: muhammad ali ganas seperti t-rex, ...</td>\n",
              "      <td>mike tyson  muhammad ali ganas seperti t rex  ...</td>\n",
              "    </tr>\n",
              "    <tr>\n",
              "      <th>2</th>\n",
              "      <td>kulkas sbs banting harga gila-gilaan di transm...</td>\n",
              "      <td>kulkas sbs banting harga gila gilaan di transm...</td>\n",
              "    </tr>\n",
              "    <tr>\n",
              "      <th>3</th>\n",
              "      <td>hakim djuyamto diduga titip rp704 juta ke satp...</td>\n",
              "      <td>hakim djuyamto diduga titip rp704 juta ke satp...</td>\n",
              "    </tr>\n",
              "    <tr>\n",
              "      <th>4</th>\n",
              "      <td>leicester vs liverpool: menanti gol kaki kiri ...</td>\n",
              "      <td>leicester vs liverpool  menanti gol kaki kiri ...</td>\n",
              "    </tr>\n",
              "    <tr>\n",
              "      <th>5</th>\n",
              "      <td>sepeda diobral rp1 juta di transmart full day ...</td>\n",
              "      <td>sepeda diobral rp1 juta di transmart full day ...</td>\n",
              "    </tr>\n",
              "    <tr>\n",
              "      <th>6</th>\n",
              "      <td>mungkinkah arsenal simpan tenaga di liga inggr...</td>\n",
              "      <td>mungkinkah arsenal simpan tenaga di liga inggr...</td>\n",
              "    </tr>\n",
              "    <tr>\n",
              "      <th>7</th>\n",
              "      <td>komisi ix dpr: perusahaan potong gaji karyawan...</td>\n",
              "      <td>komisi ix dpr  perusahaan potong gaji karyawan...</td>\n",
              "    </tr>\n",
              "    <tr>\n",
              "      <th>8</th>\n",
              "      <td>video: penampakan ngeri pelabuhan yaman usai d...</td>\n",
              "      <td>video  penampakan ngeri pelabuhan yaman usai d...</td>\n",
              "    </tr>\n",
              "    <tr>\n",
              "      <th>9</th>\n",
              "      <td>perpres kantor komunikasi presiden digugat ke ma</td>\n",
              "      <td>perpres kantor komunikasi presiden digugat ke ma</td>\n",
              "    </tr>\n",
              "  </tbody>\n",
              "</table>\n",
              "</div>\n",
              "    <div class=\"colab-df-buttons\">\n",
              "\n",
              "  <div class=\"colab-df-container\">\n",
              "    <button class=\"colab-df-convert\" onclick=\"convertToInteractive('df-8502e59a-78dd-4b2f-b278-c215ab468f59')\"\n",
              "            title=\"Convert this dataframe to an interactive table.\"\n",
              "            style=\"display:none;\">\n",
              "\n",
              "  <svg xmlns=\"http://www.w3.org/2000/svg\" height=\"24px\" viewBox=\"0 -960 960 960\">\n",
              "    <path d=\"M120-120v-720h720v720H120Zm60-500h600v-160H180v160Zm220 220h160v-160H400v160Zm0 220h160v-160H400v160ZM180-400h160v-160H180v160Zm440 0h160v-160H620v160ZM180-180h160v-160H180v160Zm440 0h160v-160H620v160Z\"/>\n",
              "  </svg>\n",
              "    </button>\n",
              "\n",
              "  <style>\n",
              "    .colab-df-container {\n",
              "      display:flex;\n",
              "      gap: 12px;\n",
              "    }\n",
              "\n",
              "    .colab-df-convert {\n",
              "      background-color: #E8F0FE;\n",
              "      border: none;\n",
              "      border-radius: 50%;\n",
              "      cursor: pointer;\n",
              "      display: none;\n",
              "      fill: #1967D2;\n",
              "      height: 32px;\n",
              "      padding: 0 0 0 0;\n",
              "      width: 32px;\n",
              "    }\n",
              "\n",
              "    .colab-df-convert:hover {\n",
              "      background-color: #E2EBFA;\n",
              "      box-shadow: 0px 1px 2px rgba(60, 64, 67, 0.3), 0px 1px 3px 1px rgba(60, 64, 67, 0.15);\n",
              "      fill: #174EA6;\n",
              "    }\n",
              "\n",
              "    .colab-df-buttons div {\n",
              "      margin-bottom: 4px;\n",
              "    }\n",
              "\n",
              "    [theme=dark] .colab-df-convert {\n",
              "      background-color: #3B4455;\n",
              "      fill: #D2E3FC;\n",
              "    }\n",
              "\n",
              "    [theme=dark] .colab-df-convert:hover {\n",
              "      background-color: #434B5C;\n",
              "      box-shadow: 0px 1px 3px 1px rgba(0, 0, 0, 0.15);\n",
              "      filter: drop-shadow(0px 1px 2px rgba(0, 0, 0, 0.3));\n",
              "      fill: #FFFFFF;\n",
              "    }\n",
              "  </style>\n",
              "\n",
              "    <script>\n",
              "      const buttonEl =\n",
              "        document.querySelector('#df-8502e59a-78dd-4b2f-b278-c215ab468f59 button.colab-df-convert');\n",
              "      buttonEl.style.display =\n",
              "        google.colab.kernel.accessAllowed ? 'block' : 'none';\n",
              "\n",
              "      async function convertToInteractive(key) {\n",
              "        const element = document.querySelector('#df-8502e59a-78dd-4b2f-b278-c215ab468f59');\n",
              "        const dataTable =\n",
              "          await google.colab.kernel.invokeFunction('convertToInteractive',\n",
              "                                                    [key], {});\n",
              "        if (!dataTable) return;\n",
              "\n",
              "        const docLinkHtml = 'Like what you see? Visit the ' +\n",
              "          '<a target=\"_blank\" href=https://colab.research.google.com/notebooks/data_table.ipynb>data table notebook</a>'\n",
              "          + ' to learn more about interactive tables.';\n",
              "        element.innerHTML = '';\n",
              "        dataTable['output_type'] = 'display_data';\n",
              "        await google.colab.output.renderOutput(dataTable, element);\n",
              "        const docLink = document.createElement('div');\n",
              "        docLink.innerHTML = docLinkHtml;\n",
              "        element.appendChild(docLink);\n",
              "      }\n",
              "    </script>\n",
              "  </div>\n",
              "\n",
              "\n",
              "    <div id=\"df-bcc090df-681a-4ddc-9800-826a76f60d47\">\n",
              "      <button class=\"colab-df-quickchart\" onclick=\"quickchart('df-bcc090df-681a-4ddc-9800-826a76f60d47')\"\n",
              "                title=\"Suggest charts\"\n",
              "                style=\"display:none;\">\n",
              "\n",
              "<svg xmlns=\"http://www.w3.org/2000/svg\" height=\"24px\"viewBox=\"0 0 24 24\"\n",
              "     width=\"24px\">\n",
              "    <g>\n",
              "        <path d=\"M19 3H5c-1.1 0-2 .9-2 2v14c0 1.1.9 2 2 2h14c1.1 0 2-.9 2-2V5c0-1.1-.9-2-2-2zM9 17H7v-7h2v7zm4 0h-2V7h2v10zm4 0h-2v-4h2v4z\"/>\n",
              "    </g>\n",
              "</svg>\n",
              "      </button>\n",
              "\n",
              "<style>\n",
              "  .colab-df-quickchart {\n",
              "      --bg-color: #E8F0FE;\n",
              "      --fill-color: #1967D2;\n",
              "      --hover-bg-color: #E2EBFA;\n",
              "      --hover-fill-color: #174EA6;\n",
              "      --disabled-fill-color: #AAA;\n",
              "      --disabled-bg-color: #DDD;\n",
              "  }\n",
              "\n",
              "  [theme=dark] .colab-df-quickchart {\n",
              "      --bg-color: #3B4455;\n",
              "      --fill-color: #D2E3FC;\n",
              "      --hover-bg-color: #434B5C;\n",
              "      --hover-fill-color: #FFFFFF;\n",
              "      --disabled-bg-color: #3B4455;\n",
              "      --disabled-fill-color: #666;\n",
              "  }\n",
              "\n",
              "  .colab-df-quickchart {\n",
              "    background-color: var(--bg-color);\n",
              "    border: none;\n",
              "    border-radius: 50%;\n",
              "    cursor: pointer;\n",
              "    display: none;\n",
              "    fill: var(--fill-color);\n",
              "    height: 32px;\n",
              "    padding: 0;\n",
              "    width: 32px;\n",
              "  }\n",
              "\n",
              "  .colab-df-quickchart:hover {\n",
              "    background-color: var(--hover-bg-color);\n",
              "    box-shadow: 0 1px 2px rgba(60, 64, 67, 0.3), 0 1px 3px 1px rgba(60, 64, 67, 0.15);\n",
              "    fill: var(--button-hover-fill-color);\n",
              "  }\n",
              "\n",
              "  .colab-df-quickchart-complete:disabled,\n",
              "  .colab-df-quickchart-complete:disabled:hover {\n",
              "    background-color: var(--disabled-bg-color);\n",
              "    fill: var(--disabled-fill-color);\n",
              "    box-shadow: none;\n",
              "  }\n",
              "\n",
              "  .colab-df-spinner {\n",
              "    border: 2px solid var(--fill-color);\n",
              "    border-color: transparent;\n",
              "    border-bottom-color: var(--fill-color);\n",
              "    animation:\n",
              "      spin 1s steps(1) infinite;\n",
              "  }\n",
              "\n",
              "  @keyframes spin {\n",
              "    0% {\n",
              "      border-color: transparent;\n",
              "      border-bottom-color: var(--fill-color);\n",
              "      border-left-color: var(--fill-color);\n",
              "    }\n",
              "    20% {\n",
              "      border-color: transparent;\n",
              "      border-left-color: var(--fill-color);\n",
              "      border-top-color: var(--fill-color);\n",
              "    }\n",
              "    30% {\n",
              "      border-color: transparent;\n",
              "      border-left-color: var(--fill-color);\n",
              "      border-top-color: var(--fill-color);\n",
              "      border-right-color: var(--fill-color);\n",
              "    }\n",
              "    40% {\n",
              "      border-color: transparent;\n",
              "      border-right-color: var(--fill-color);\n",
              "      border-top-color: var(--fill-color);\n",
              "    }\n",
              "    60% {\n",
              "      border-color: transparent;\n",
              "      border-right-color: var(--fill-color);\n",
              "    }\n",
              "    80% {\n",
              "      border-color: transparent;\n",
              "      border-right-color: var(--fill-color);\n",
              "      border-bottom-color: var(--fill-color);\n",
              "    }\n",
              "    90% {\n",
              "      border-color: transparent;\n",
              "      border-bottom-color: var(--fill-color);\n",
              "    }\n",
              "  }\n",
              "</style>\n",
              "\n",
              "      <script>\n",
              "        async function quickchart(key) {\n",
              "          const quickchartButtonEl =\n",
              "            document.querySelector('#' + key + ' button');\n",
              "          quickchartButtonEl.disabled = true;  // To prevent multiple clicks.\n",
              "          quickchartButtonEl.classList.add('colab-df-spinner');\n",
              "          try {\n",
              "            const charts = await google.colab.kernel.invokeFunction(\n",
              "                'suggestCharts', [key], {});\n",
              "          } catch (error) {\n",
              "            console.error('Error during call to suggestCharts:', error);\n",
              "          }\n",
              "          quickchartButtonEl.classList.remove('colab-df-spinner');\n",
              "          quickchartButtonEl.classList.add('colab-df-quickchart-complete');\n",
              "        }\n",
              "        (() => {\n",
              "          let quickchartButtonEl =\n",
              "            document.querySelector('#df-bcc090df-681a-4ddc-9800-826a76f60d47 button');\n",
              "          quickchartButtonEl.style.display =\n",
              "            google.colab.kernel.accessAllowed ? 'block' : 'none';\n",
              "        })();\n",
              "      </script>\n",
              "    </div>\n",
              "\n",
              "    </div>\n",
              "  </div>\n"
            ],
            "application/vnd.google.colaboratory.intrinsic+json": {
              "type": "dataframe",
              "summary": "{\n  \"name\": \"display(df[['hapus_karakter_sebelum','nospecials_sesudah']]\",\n  \"rows\": 10,\n  \"fields\": [\n    {\n      \"column\": \"hapus_karakter_sebelum\",\n      \"properties\": {\n        \"dtype\": \"string\",\n        \"num_unique_values\": 10,\n        \"samples\": [\n          \"video: penampakan ngeri pelabuhan yaman usai dibombardir as, 80 tewas\",\n          \"mike tyson: muhammad ali ganas seperti t-rex, tapi sangat tampan\",\n          \"sepeda diobral rp1 juta di transmart full day sale hari ini, mau?\"\n        ],\n        \"semantic_type\": \"\",\n        \"description\": \"\"\n      }\n    },\n    {\n      \"column\": \"nospecials_sesudah\",\n      \"properties\": {\n        \"dtype\": \"string\",\n        \"num_unique_values\": 10,\n        \"samples\": [\n          \"video  penampakan ngeri pelabuhan yaman usai dibombardir as  80 tewas\",\n          \"mike tyson  muhammad ali ganas seperti t rex  tapi sangat tampan\",\n          \"sepeda diobral rp1 juta di transmart full day sale hari ini  mau \"\n        ],\n        \"semantic_type\": \"\",\n        \"description\": \"\"\n      }\n    }\n  ]\n}"
            }
          },
          "metadata": {}
        }
      ]
    },
    {
      "cell_type": "code",
      "source": [
        "# 3) Tokenizing (NLTK)\n",
        "from nltk.tokenize import RegexpTokenizer\n",
        "# Pilih kolom input (hasil preprocessing sebelumnya)\n",
        "input_for_token = df['trim_sesudah'] if 'trim_sesudah' in df.columns else df['nospecials_sesudah']\n",
        "df['tokenizing_sebelum'] = input_for_token.fillna('').astype(str).str.strip()\n",
        "# Inisialisasi tokenizer: hanya ambil huruf/angka (hapus tanda baca)\n",
        "tokenizer = RegexpTokenizer(r'\\w+')\n",
        "# Lakukan tokenizing ke setiap baris\n",
        "df['tokens'] = df['tokenizing_sebelum'].apply(lambda t: tokenizer.tokenize(t.lower()) if t else [])\n",
        "print(\"TOKENIZING (menggunakan RegexpTokenizer)\")\n",
        "display(df[['tokenizing_sebelum', 'tokens']].head(10))"
      ],
      "metadata": {
        "colab": {
          "base_uri": "https://localhost:8080/",
          "height": 381
        },
        "id": "MmDgM_cRo-OP",
        "outputId": "c45ddeab-7e64-4a4c-fb69-6d267055c27d"
      },
      "execution_count": 81,
      "outputs": [
        {
          "output_type": "stream",
          "name": "stdout",
          "text": [
            "TOKENIZING (menggunakan RegexpTokenizer)\n"
          ]
        },
        {
          "output_type": "display_data",
          "data": {
            "text/plain": [
              "                                  tokenizing_sebelum  \\\n",
              "0  pesan paskah uskup agung jakarta kardinal igna...   \n",
              "1  mike tyson  muhammad ali ganas seperti t rex  ...   \n",
              "2  kulkas sbs banting harga gila gilaan di transm...   \n",
              "3  hakim djuyamto diduga titip rp704 juta ke satp...   \n",
              "4  leicester vs liverpool  menanti gol kaki kiri ...   \n",
              "5  sepeda diobral rp1 juta di transmart full day ...   \n",
              "6  mungkinkah arsenal simpan tenaga di liga inggr...   \n",
              "7  komisi ix dpr  perusahaan potong gaji karyawan...   \n",
              "8  video  penampakan ngeri pelabuhan yaman usai d...   \n",
              "9   perpres kantor komunikasi presiden digugat ke ma   \n",
              "\n",
              "                                              tokens  \n",
              "0  [pesan, paskah, uskup, agung, jakarta, kardina...  \n",
              "1  [mike, tyson, muhammad, ali, ganas, seperti, t...  \n",
              "2  [kulkas, sbs, banting, harga, gila, gilaan, di...  \n",
              "3  [hakim, djuyamto, diduga, titip, rp704, juta, ...  \n",
              "4  [leicester, vs, liverpool, menanti, gol, kaki,...  \n",
              "5  [sepeda, diobral, rp1, juta, di, transmart, fu...  \n",
              "6  [mungkinkah, arsenal, simpan, tenaga, di, liga...  \n",
              "7  [komisi, ix, dpr, perusahaan, potong, gaji, ka...  \n",
              "8  [video, penampakan, ngeri, pelabuhan, yaman, u...  \n",
              "9  [perpres, kantor, komunikasi, presiden, diguga...  "
            ],
            "text/html": [
              "\n",
              "  <div id=\"df-6017a8e9-f5b9-401f-ab81-2c0c9032a00c\" class=\"colab-df-container\">\n",
              "    <div>\n",
              "<style scoped>\n",
              "    .dataframe tbody tr th:only-of-type {\n",
              "        vertical-align: middle;\n",
              "    }\n",
              "\n",
              "    .dataframe tbody tr th {\n",
              "        vertical-align: top;\n",
              "    }\n",
              "\n",
              "    .dataframe thead th {\n",
              "        text-align: right;\n",
              "    }\n",
              "</style>\n",
              "<table border=\"1\" class=\"dataframe\">\n",
              "  <thead>\n",
              "    <tr style=\"text-align: right;\">\n",
              "      <th></th>\n",
              "      <th>tokenizing_sebelum</th>\n",
              "      <th>tokens</th>\n",
              "    </tr>\n",
              "  </thead>\n",
              "  <tbody>\n",
              "    <tr>\n",
              "      <th>0</th>\n",
              "      <td>pesan paskah uskup agung jakarta kardinal igna...</td>\n",
              "      <td>[pesan, paskah, uskup, agung, jakarta, kardina...</td>\n",
              "    </tr>\n",
              "    <tr>\n",
              "      <th>1</th>\n",
              "      <td>mike tyson  muhammad ali ganas seperti t rex  ...</td>\n",
              "      <td>[mike, tyson, muhammad, ali, ganas, seperti, t...</td>\n",
              "    </tr>\n",
              "    <tr>\n",
              "      <th>2</th>\n",
              "      <td>kulkas sbs banting harga gila gilaan di transm...</td>\n",
              "      <td>[kulkas, sbs, banting, harga, gila, gilaan, di...</td>\n",
              "    </tr>\n",
              "    <tr>\n",
              "      <th>3</th>\n",
              "      <td>hakim djuyamto diduga titip rp704 juta ke satp...</td>\n",
              "      <td>[hakim, djuyamto, diduga, titip, rp704, juta, ...</td>\n",
              "    </tr>\n",
              "    <tr>\n",
              "      <th>4</th>\n",
              "      <td>leicester vs liverpool  menanti gol kaki kiri ...</td>\n",
              "      <td>[leicester, vs, liverpool, menanti, gol, kaki,...</td>\n",
              "    </tr>\n",
              "    <tr>\n",
              "      <th>5</th>\n",
              "      <td>sepeda diobral rp1 juta di transmart full day ...</td>\n",
              "      <td>[sepeda, diobral, rp1, juta, di, transmart, fu...</td>\n",
              "    </tr>\n",
              "    <tr>\n",
              "      <th>6</th>\n",
              "      <td>mungkinkah arsenal simpan tenaga di liga inggr...</td>\n",
              "      <td>[mungkinkah, arsenal, simpan, tenaga, di, liga...</td>\n",
              "    </tr>\n",
              "    <tr>\n",
              "      <th>7</th>\n",
              "      <td>komisi ix dpr  perusahaan potong gaji karyawan...</td>\n",
              "      <td>[komisi, ix, dpr, perusahaan, potong, gaji, ka...</td>\n",
              "    </tr>\n",
              "    <tr>\n",
              "      <th>8</th>\n",
              "      <td>video  penampakan ngeri pelabuhan yaman usai d...</td>\n",
              "      <td>[video, penampakan, ngeri, pelabuhan, yaman, u...</td>\n",
              "    </tr>\n",
              "    <tr>\n",
              "      <th>9</th>\n",
              "      <td>perpres kantor komunikasi presiden digugat ke ma</td>\n",
              "      <td>[perpres, kantor, komunikasi, presiden, diguga...</td>\n",
              "    </tr>\n",
              "  </tbody>\n",
              "</table>\n",
              "</div>\n",
              "    <div class=\"colab-df-buttons\">\n",
              "\n",
              "  <div class=\"colab-df-container\">\n",
              "    <button class=\"colab-df-convert\" onclick=\"convertToInteractive('df-6017a8e9-f5b9-401f-ab81-2c0c9032a00c')\"\n",
              "            title=\"Convert this dataframe to an interactive table.\"\n",
              "            style=\"display:none;\">\n",
              "\n",
              "  <svg xmlns=\"http://www.w3.org/2000/svg\" height=\"24px\" viewBox=\"0 -960 960 960\">\n",
              "    <path d=\"M120-120v-720h720v720H120Zm60-500h600v-160H180v160Zm220 220h160v-160H400v160Zm0 220h160v-160H400v160ZM180-400h160v-160H180v160Zm440 0h160v-160H620v160ZM180-180h160v-160H180v160Zm440 0h160v-160H620v160Z\"/>\n",
              "  </svg>\n",
              "    </button>\n",
              "\n",
              "  <style>\n",
              "    .colab-df-container {\n",
              "      display:flex;\n",
              "      gap: 12px;\n",
              "    }\n",
              "\n",
              "    .colab-df-convert {\n",
              "      background-color: #E8F0FE;\n",
              "      border: none;\n",
              "      border-radius: 50%;\n",
              "      cursor: pointer;\n",
              "      display: none;\n",
              "      fill: #1967D2;\n",
              "      height: 32px;\n",
              "      padding: 0 0 0 0;\n",
              "      width: 32px;\n",
              "    }\n",
              "\n",
              "    .colab-df-convert:hover {\n",
              "      background-color: #E2EBFA;\n",
              "      box-shadow: 0px 1px 2px rgba(60, 64, 67, 0.3), 0px 1px 3px 1px rgba(60, 64, 67, 0.15);\n",
              "      fill: #174EA6;\n",
              "    }\n",
              "\n",
              "    .colab-df-buttons div {\n",
              "      margin-bottom: 4px;\n",
              "    }\n",
              "\n",
              "    [theme=dark] .colab-df-convert {\n",
              "      background-color: #3B4455;\n",
              "      fill: #D2E3FC;\n",
              "    }\n",
              "\n",
              "    [theme=dark] .colab-df-convert:hover {\n",
              "      background-color: #434B5C;\n",
              "      box-shadow: 0px 1px 3px 1px rgba(0, 0, 0, 0.15);\n",
              "      filter: drop-shadow(0px 1px 2px rgba(0, 0, 0, 0.3));\n",
              "      fill: #FFFFFF;\n",
              "    }\n",
              "  </style>\n",
              "\n",
              "    <script>\n",
              "      const buttonEl =\n",
              "        document.querySelector('#df-6017a8e9-f5b9-401f-ab81-2c0c9032a00c button.colab-df-convert');\n",
              "      buttonEl.style.display =\n",
              "        google.colab.kernel.accessAllowed ? 'block' : 'none';\n",
              "\n",
              "      async function convertToInteractive(key) {\n",
              "        const element = document.querySelector('#df-6017a8e9-f5b9-401f-ab81-2c0c9032a00c');\n",
              "        const dataTable =\n",
              "          await google.colab.kernel.invokeFunction('convertToInteractive',\n",
              "                                                    [key], {});\n",
              "        if (!dataTable) return;\n",
              "\n",
              "        const docLinkHtml = 'Like what you see? Visit the ' +\n",
              "          '<a target=\"_blank\" href=https://colab.research.google.com/notebooks/data_table.ipynb>data table notebook</a>'\n",
              "          + ' to learn more about interactive tables.';\n",
              "        element.innerHTML = '';\n",
              "        dataTable['output_type'] = 'display_data';\n",
              "        await google.colab.output.renderOutput(dataTable, element);\n",
              "        const docLink = document.createElement('div');\n",
              "        docLink.innerHTML = docLinkHtml;\n",
              "        element.appendChild(docLink);\n",
              "      }\n",
              "    </script>\n",
              "  </div>\n",
              "\n",
              "\n",
              "    <div id=\"df-3165005e-0982-459c-96cd-a7ee32598324\">\n",
              "      <button class=\"colab-df-quickchart\" onclick=\"quickchart('df-3165005e-0982-459c-96cd-a7ee32598324')\"\n",
              "                title=\"Suggest charts\"\n",
              "                style=\"display:none;\">\n",
              "\n",
              "<svg xmlns=\"http://www.w3.org/2000/svg\" height=\"24px\"viewBox=\"0 0 24 24\"\n",
              "     width=\"24px\">\n",
              "    <g>\n",
              "        <path d=\"M19 3H5c-1.1 0-2 .9-2 2v14c0 1.1.9 2 2 2h14c1.1 0 2-.9 2-2V5c0-1.1-.9-2-2-2zM9 17H7v-7h2v7zm4 0h-2V7h2v10zm4 0h-2v-4h2v4z\"/>\n",
              "    </g>\n",
              "</svg>\n",
              "      </button>\n",
              "\n",
              "<style>\n",
              "  .colab-df-quickchart {\n",
              "      --bg-color: #E8F0FE;\n",
              "      --fill-color: #1967D2;\n",
              "      --hover-bg-color: #E2EBFA;\n",
              "      --hover-fill-color: #174EA6;\n",
              "      --disabled-fill-color: #AAA;\n",
              "      --disabled-bg-color: #DDD;\n",
              "  }\n",
              "\n",
              "  [theme=dark] .colab-df-quickchart {\n",
              "      --bg-color: #3B4455;\n",
              "      --fill-color: #D2E3FC;\n",
              "      --hover-bg-color: #434B5C;\n",
              "      --hover-fill-color: #FFFFFF;\n",
              "      --disabled-bg-color: #3B4455;\n",
              "      --disabled-fill-color: #666;\n",
              "  }\n",
              "\n",
              "  .colab-df-quickchart {\n",
              "    background-color: var(--bg-color);\n",
              "    border: none;\n",
              "    border-radius: 50%;\n",
              "    cursor: pointer;\n",
              "    display: none;\n",
              "    fill: var(--fill-color);\n",
              "    height: 32px;\n",
              "    padding: 0;\n",
              "    width: 32px;\n",
              "  }\n",
              "\n",
              "  .colab-df-quickchart:hover {\n",
              "    background-color: var(--hover-bg-color);\n",
              "    box-shadow: 0 1px 2px rgba(60, 64, 67, 0.3), 0 1px 3px 1px rgba(60, 64, 67, 0.15);\n",
              "    fill: var(--button-hover-fill-color);\n",
              "  }\n",
              "\n",
              "  .colab-df-quickchart-complete:disabled,\n",
              "  .colab-df-quickchart-complete:disabled:hover {\n",
              "    background-color: var(--disabled-bg-color);\n",
              "    fill: var(--disabled-fill-color);\n",
              "    box-shadow: none;\n",
              "  }\n",
              "\n",
              "  .colab-df-spinner {\n",
              "    border: 2px solid var(--fill-color);\n",
              "    border-color: transparent;\n",
              "    border-bottom-color: var(--fill-color);\n",
              "    animation:\n",
              "      spin 1s steps(1) infinite;\n",
              "  }\n",
              "\n",
              "  @keyframes spin {\n",
              "    0% {\n",
              "      border-color: transparent;\n",
              "      border-bottom-color: var(--fill-color);\n",
              "      border-left-color: var(--fill-color);\n",
              "    }\n",
              "    20% {\n",
              "      border-color: transparent;\n",
              "      border-left-color: var(--fill-color);\n",
              "      border-top-color: var(--fill-color);\n",
              "    }\n",
              "    30% {\n",
              "      border-color: transparent;\n",
              "      border-left-color: var(--fill-color);\n",
              "      border-top-color: var(--fill-color);\n",
              "      border-right-color: var(--fill-color);\n",
              "    }\n",
              "    40% {\n",
              "      border-color: transparent;\n",
              "      border-right-color: var(--fill-color);\n",
              "      border-top-color: var(--fill-color);\n",
              "    }\n",
              "    60% {\n",
              "      border-color: transparent;\n",
              "      border-right-color: var(--fill-color);\n",
              "    }\n",
              "    80% {\n",
              "      border-color: transparent;\n",
              "      border-right-color: var(--fill-color);\n",
              "      border-bottom-color: var(--fill-color);\n",
              "    }\n",
              "    90% {\n",
              "      border-color: transparent;\n",
              "      border-bottom-color: var(--fill-color);\n",
              "    }\n",
              "  }\n",
              "</style>\n",
              "\n",
              "      <script>\n",
              "        async function quickchart(key) {\n",
              "          const quickchartButtonEl =\n",
              "            document.querySelector('#' + key + ' button');\n",
              "          quickchartButtonEl.disabled = true;  // To prevent multiple clicks.\n",
              "          quickchartButtonEl.classList.add('colab-df-spinner');\n",
              "          try {\n",
              "            const charts = await google.colab.kernel.invokeFunction(\n",
              "                'suggestCharts', [key], {});\n",
              "          } catch (error) {\n",
              "            console.error('Error during call to suggestCharts:', error);\n",
              "          }\n",
              "          quickchartButtonEl.classList.remove('colab-df-spinner');\n",
              "          quickchartButtonEl.classList.add('colab-df-quickchart-complete');\n",
              "        }\n",
              "        (() => {\n",
              "          let quickchartButtonEl =\n",
              "            document.querySelector('#df-3165005e-0982-459c-96cd-a7ee32598324 button');\n",
              "          quickchartButtonEl.style.display =\n",
              "            google.colab.kernel.accessAllowed ? 'block' : 'none';\n",
              "        })();\n",
              "      </script>\n",
              "    </div>\n",
              "\n",
              "    </div>\n",
              "  </div>\n"
            ],
            "application/vnd.google.colaboratory.intrinsic+json": {
              "type": "dataframe",
              "summary": "{\n  \"name\": \"display(df[['tokenizing_sebelum', 'tokens']]\",\n  \"rows\": 10,\n  \"fields\": [\n    {\n      \"column\": \"tokenizing_sebelum\",\n      \"properties\": {\n        \"dtype\": \"string\",\n        \"num_unique_values\": 10,\n        \"samples\": [\n          \"video  penampakan ngeri pelabuhan yaman usai dibombardir as  80 tewas\",\n          \"mike tyson  muhammad ali ganas seperti t rex  tapi sangat tampan\",\n          \"sepeda diobral rp1 juta di transmart full day sale hari ini  mau\"\n        ],\n        \"semantic_type\": \"\",\n        \"description\": \"\"\n      }\n    },\n    {\n      \"column\": \"tokens\",\n      \"properties\": {\n        \"dtype\": \"object\",\n        \"semantic_type\": \"\",\n        \"description\": \"\"\n      }\n    }\n  ]\n}"
            }
          },
          "metadata": {}
        }
      ]
    },
    {
      "cell_type": "code",
      "source": [
        "try:\n",
        "  import openpyxl # hanya untuk mengecek\n",
        "except Exception:\n",
        "  !pip install --quiet openpyxl\n",
        "  import openpyxl\n",
        "\n",
        "from google.colab import files\n",
        "import os\n",
        "cols_to_save = [\n",
        "  'orig_text_for_preproc',\n",
        "  'casefold_sebelum', 'casefold_sesudah',\n",
        "  'hapus_karakter_sebelum', 'nospecials_sesudah',\n",
        "  'tokenizing_sebelum', 'tokens'\n",
        "]\n",
        "cols_to_save = [c for c in cols_to_save if c in df.columns]\n",
        "out_xlsx = \"/content/preprocessed_output.xlsx\"\n",
        "out_csv = \"/content/preprocessed_output.csv\"\n",
        "df.to_excel(out_xlsx, columns=cols_to_save, index=False)\n",
        "df.to_csv(out_csv, columns=cols_to_save, index=False, encoding='utf-8')\n",
        "print(\"Mempersiapkan download...\")\n",
        "files.download(out_xlsx)"
      ],
      "metadata": {
        "colab": {
          "base_uri": "https://localhost:8080/",
          "height": 35
        },
        "id": "PY5hPGWLpCn_",
        "outputId": "2af9e49d-7d18-4e2e-fb86-e9ceeb68cc07"
      },
      "execution_count": 83,
      "outputs": [
        {
          "output_type": "stream",
          "name": "stdout",
          "text": [
            "Mempersiapkan download...\n"
          ]
        },
        {
          "output_type": "display_data",
          "data": {
            "text/plain": [
              "<IPython.core.display.Javascript object>"
            ],
            "application/javascript": [
              "\n",
              "    async function download(id, filename, size) {\n",
              "      if (!google.colab.kernel.accessAllowed) {\n",
              "        return;\n",
              "      }\n",
              "      const div = document.createElement('div');\n",
              "      const label = document.createElement('label');\n",
              "      label.textContent = `Downloading \"${filename}\": `;\n",
              "      div.appendChild(label);\n",
              "      const progress = document.createElement('progress');\n",
              "      progress.max = size;\n",
              "      div.appendChild(progress);\n",
              "      document.body.appendChild(div);\n",
              "\n",
              "      const buffers = [];\n",
              "      let downloaded = 0;\n",
              "\n",
              "      const channel = await google.colab.kernel.comms.open(id);\n",
              "      // Send a message to notify the kernel that we're ready.\n",
              "      channel.send({})\n",
              "\n",
              "      for await (const message of channel.messages) {\n",
              "        // Send a message to notify the kernel that we're ready.\n",
              "        channel.send({})\n",
              "        if (message.buffers) {\n",
              "          for (const buffer of message.buffers) {\n",
              "            buffers.push(buffer);\n",
              "            downloaded += buffer.byteLength;\n",
              "            progress.value = downloaded;\n",
              "          }\n",
              "        }\n",
              "      }\n",
              "      const blob = new Blob(buffers, {type: 'application/binary'});\n",
              "      const a = document.createElement('a');\n",
              "      a.href = window.URL.createObjectURL(blob);\n",
              "      a.download = filename;\n",
              "      div.appendChild(a);\n",
              "      a.click();\n",
              "      div.remove();\n",
              "    }\n",
              "  "
            ]
          },
          "metadata": {}
        },
        {
          "output_type": "display_data",
          "data": {
            "text/plain": [
              "<IPython.core.display.Javascript object>"
            ],
            "application/javascript": [
              "download(\"download_15554ec1-26ac-4922-96cf-248cce887b3c\", \"preprocessed_output.xlsx\", 482438)"
            ]
          },
          "metadata": {}
        }
      ]
    }
  ]
}